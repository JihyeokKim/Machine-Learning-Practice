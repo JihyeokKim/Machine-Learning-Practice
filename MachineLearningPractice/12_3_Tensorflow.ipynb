{
 "cells": [
  {
   "cell_type": "markdown",
   "id": "63293213",
   "metadata": {},
   "source": [
    "## 텐서플로 2.0 소개\n",
    "### Sequential API"
   ]
  },
  {
   "cell_type": "code",
   "execution_count": 33,
   "id": "160741bf",
   "metadata": {},
   "outputs": [
    {
     "name": "stdout",
     "output_type": "stream",
     "text": [
      "Model: \"sequential_3\"\n",
      "_________________________________________________________________\n",
      "Layer (type)                 Output Shape              Param #   \n",
      "=================================================================\n",
      "dense_9 (Dense)              (None, 32, 32, 100)       200       \n",
      "_________________________________________________________________\n",
      "dense_10 (Dense)             (None, 32, 32, 50)        5050      \n",
      "_________________________________________________________________\n",
      "dense_11 (Dense)             (None, 32, 32, 5)         255       \n",
      "=================================================================\n",
      "Total params: 5,505\n",
      "Trainable params: 5,505\n",
      "Non-trainable params: 0\n",
      "_________________________________________________________________\n"
     ]
    }
   ],
   "source": [
    "from tensorflow.keras.models import Sequential\n",
    "from tensorflow.keras.layers import Dense\n",
    "\n",
    "model = Sequential()\n",
    "model.add(Dense(100, activation='relu',\n",
    "               input_shape = (32, 32, 1)))\n",
    "model.add(Dense(50, activation = 'relu'))\n",
    "model.add(Dense(5, activation = 'softmax'))\n",
    "model.summary()"
   ]
  },
  {
   "cell_type": "markdown",
   "id": "265b113b",
   "metadata": {},
   "source": [
    "### 함수형 API"
   ]
  },
  {
   "cell_type": "code",
   "execution_count": 34,
   "id": "639f56bb",
   "metadata": {},
   "outputs": [
    {
     "name": "stdout",
     "output_type": "stream",
     "text": [
      "Model: \"model_1\"\n",
      "_________________________________________________________________\n",
      "Layer (type)                 Output Shape              Param #   \n",
      "=================================================================\n",
      "input_2 (InputLayer)         [(None, 32, 32, 1)]       0         \n",
      "_________________________________________________________________\n",
      "dense_12 (Dense)             (None, 32, 32, 100)       200       \n",
      "_________________________________________________________________\n",
      "dense_13 (Dense)             (None, 32, 32, 50)        5050      \n",
      "_________________________________________________________________\n",
      "dense_14 (Dense)             (None, 32, 32, 5)         255       \n",
      "=================================================================\n",
      "Total params: 5,505\n",
      "Trainable params: 5,505\n",
      "Non-trainable params: 0\n",
      "_________________________________________________________________\n"
     ]
    }
   ],
   "source": [
    "from tensorflow.keras.layers import Input, Dense\n",
    "from tensorflow.keras.models import Model\n",
    "\n",
    "input_layer = Input(shape = (32, 32, 1))\n",
    "x = Dense(units=100, activation = 'relu')(input_layer)\n",
    "x = Dense(units=50, activation = 'relu')(x)\n",
    "\n",
    "# x = Dense(units=100)(x)\n",
    "# x = Activation('relu')(x)\n",
    "\n",
    "output_layer = Dense(units=5, activation = 'softmax')(x)\n",
    "\n",
    "model1 = Model(input_layer, output_layer)\n",
    "model1.summary()"
   ]
  },
  {
   "cell_type": "markdown",
   "id": "044a889c",
   "metadata": {},
   "source": [
    "### 모형 compile"
   ]
  },
  {
   "cell_type": "code",
   "execution_count": 8,
   "id": "f6ef617a",
   "metadata": {},
   "outputs": [],
   "source": [
    "model.compile(\n",
    "loss = 'categorical_crossentropy',\n",
    "optimizer = 'adam',\n",
    "metrics = ['accuracy'])"
   ]
  },
  {
   "cell_type": "markdown",
   "id": "fcda6130",
   "metadata": {},
   "source": [
    "### 모형 저장 및 불러오기"
   ]
  },
  {
   "cell_type": "code",
   "execution_count": 9,
   "id": "7b3106e8",
   "metadata": {},
   "outputs": [],
   "source": [
    "# h5 파일 포맷으로 저장\n",
    "model.save('cnn_model.h5')"
   ]
  },
  {
   "cell_type": "code",
   "execution_count": 10,
   "id": "13e370e3",
   "metadata": {},
   "outputs": [],
   "source": [
    "# 불러오기\n",
    "from tensorflow.keras.models import load_model\n",
    "cnn_model2 = load_model('cnn_model.h5')"
   ]
  },
  {
   "cell_type": "markdown",
   "id": "78b10e1a",
   "metadata": {},
   "source": [
    "## 분류 신경망 실습"
   ]
  },
  {
   "cell_type": "markdown",
   "id": "8976ea1a",
   "metadata": {},
   "source": [
    "### 랜덤 시드 설정"
   ]
  },
  {
   "cell_type": "code",
   "execution_count": 1,
   "id": "71c33638",
   "metadata": {},
   "outputs": [],
   "source": [
    "# 일관된 결과 값이 나오도록 함\n",
    "import numpy as np\n",
    "import tensorflow as tf\n",
    "np.random.seed(0)\n",
    "tf.random.set_seed(0)"
   ]
  },
  {
   "cell_type": "markdown",
   "id": "39d1852b",
   "metadata": {},
   "source": [
    "### 데이터 불러오기"
   ]
  },
  {
   "cell_type": "code",
   "execution_count": 2,
   "id": "d62dd5a4",
   "metadata": {},
   "outputs": [],
   "source": [
    "from sklearn import datasets\n",
    "raw_wine = datasets.load_wine()"
   ]
  },
  {
   "cell_type": "markdown",
   "id": "562b686b",
   "metadata": {},
   "source": [
    "### 피처, 타깃 데이터 지정"
   ]
  },
  {
   "cell_type": "code",
   "execution_count": 3,
   "id": "b37457bf",
   "metadata": {},
   "outputs": [],
   "source": [
    "X = raw_wine.data\n",
    "y = raw_wine.target"
   ]
  },
  {
   "cell_type": "markdown",
   "id": "78095a8c",
   "metadata": {},
   "source": [
    "### 피처 데이터 차원, 타깃 데이터 종류 확인"
   ]
  },
  {
   "cell_type": "code",
   "execution_count": 4,
   "id": "da9e5c40",
   "metadata": {},
   "outputs": [
    {
     "name": "stdout",
     "output_type": "stream",
     "text": [
      "(data, features) :  (178, 13)\n",
      "{0, 1, 2}\n"
     ]
    }
   ],
   "source": [
    "print(\"(data, features) : \", X.shape)\n",
    "print(set(y))"
   ]
  },
  {
   "cell_type": "markdown",
   "id": "035b4002",
   "metadata": {},
   "source": [
    "### 타깃 데이터 원-핫 인코딩"
   ]
  },
  {
   "cell_type": "code",
   "execution_count": 5,
   "id": "b1b189a7",
   "metadata": {},
   "outputs": [
    {
     "name": "stdout",
     "output_type": "stream",
     "text": [
      "[[1. 0. 0.]\n",
      " [1. 0. 0.]\n",
      " [1. 0. 0.]\n",
      " [1. 0. 0.]\n",
      " [1. 0. 0.]\n",
      " [1. 0. 0.]\n",
      " [1. 0. 0.]\n",
      " [1. 0. 0.]\n",
      " [1. 0. 0.]\n",
      " [1. 0. 0.]\n",
      " [1. 0. 0.]\n",
      " [1. 0. 0.]\n",
      " [1. 0. 0.]\n",
      " [1. 0. 0.]\n",
      " [1. 0. 0.]\n",
      " [1. 0. 0.]\n",
      " [1. 0. 0.]\n",
      " [1. 0. 0.]\n",
      " [1. 0. 0.]\n",
      " [1. 0. 0.]\n",
      " [1. 0. 0.]\n",
      " [1. 0. 0.]\n",
      " [1. 0. 0.]\n",
      " [1. 0. 0.]\n",
      " [1. 0. 0.]\n",
      " [1. 0. 0.]\n",
      " [1. 0. 0.]\n",
      " [1. 0. 0.]\n",
      " [1. 0. 0.]\n",
      " [1. 0. 0.]\n",
      " [1. 0. 0.]\n",
      " [1. 0. 0.]\n",
      " [1. 0. 0.]\n",
      " [1. 0. 0.]\n",
      " [1. 0. 0.]\n",
      " [1. 0. 0.]\n",
      " [1. 0. 0.]\n",
      " [1. 0. 0.]\n",
      " [1. 0. 0.]\n",
      " [1. 0. 0.]\n",
      " [1. 0. 0.]\n",
      " [1. 0. 0.]\n",
      " [1. 0. 0.]\n",
      " [1. 0. 0.]\n",
      " [1. 0. 0.]\n",
      " [1. 0. 0.]\n",
      " [1. 0. 0.]\n",
      " [1. 0. 0.]\n",
      " [1. 0. 0.]\n",
      " [1. 0. 0.]\n",
      " [1. 0. 0.]\n",
      " [1. 0. 0.]\n",
      " [1. 0. 0.]\n",
      " [1. 0. 0.]\n",
      " [1. 0. 0.]\n",
      " [1. 0. 0.]\n",
      " [1. 0. 0.]\n",
      " [1. 0. 0.]\n",
      " [1. 0. 0.]\n",
      " [0. 1. 0.]\n",
      " [0. 1. 0.]\n",
      " [0. 1. 0.]\n",
      " [0. 1. 0.]\n",
      " [0. 1. 0.]\n",
      " [0. 1. 0.]\n",
      " [0. 1. 0.]\n",
      " [0. 1. 0.]\n",
      " [0. 1. 0.]\n",
      " [0. 1. 0.]\n",
      " [0. 1. 0.]\n",
      " [0. 1. 0.]\n",
      " [0. 1. 0.]\n",
      " [0. 1. 0.]\n",
      " [0. 1. 0.]\n",
      " [0. 1. 0.]\n",
      " [0. 1. 0.]\n",
      " [0. 1. 0.]\n",
      " [0. 1. 0.]\n",
      " [0. 1. 0.]\n",
      " [0. 1. 0.]\n",
      " [0. 1. 0.]\n",
      " [0. 1. 0.]\n",
      " [0. 1. 0.]\n",
      " [0. 1. 0.]\n",
      " [0. 1. 0.]\n",
      " [0. 1. 0.]\n",
      " [0. 1. 0.]\n",
      " [0. 1. 0.]\n",
      " [0. 1. 0.]\n",
      " [0. 1. 0.]\n",
      " [0. 1. 0.]\n",
      " [0. 1. 0.]\n",
      " [0. 1. 0.]\n",
      " [0. 1. 0.]\n",
      " [0. 1. 0.]\n",
      " [0. 1. 0.]\n",
      " [0. 1. 0.]\n",
      " [0. 1. 0.]\n",
      " [0. 1. 0.]\n",
      " [0. 1. 0.]\n",
      " [0. 1. 0.]\n",
      " [0. 1. 0.]\n",
      " [0. 1. 0.]\n",
      " [0. 1. 0.]\n",
      " [0. 1. 0.]\n",
      " [0. 1. 0.]\n",
      " [0. 1. 0.]\n",
      " [0. 1. 0.]\n",
      " [0. 1. 0.]\n",
      " [0. 1. 0.]\n",
      " [0. 1. 0.]\n",
      " [0. 1. 0.]\n",
      " [0. 1. 0.]\n",
      " [0. 1. 0.]\n",
      " [0. 1. 0.]\n",
      " [0. 1. 0.]\n",
      " [0. 1. 0.]\n",
      " [0. 1. 0.]\n",
      " [0. 1. 0.]\n",
      " [0. 1. 0.]\n",
      " [0. 1. 0.]\n",
      " [0. 1. 0.]\n",
      " [0. 1. 0.]\n",
      " [0. 1. 0.]\n",
      " [0. 1. 0.]\n",
      " [0. 1. 0.]\n",
      " [0. 1. 0.]\n",
      " [0. 1. 0.]\n",
      " [0. 1. 0.]\n",
      " [0. 1. 0.]\n",
      " [0. 0. 1.]\n",
      " [0. 0. 1.]\n",
      " [0. 0. 1.]\n",
      " [0. 0. 1.]\n",
      " [0. 0. 1.]\n",
      " [0. 0. 1.]\n",
      " [0. 0. 1.]\n",
      " [0. 0. 1.]\n",
      " [0. 0. 1.]\n",
      " [0. 0. 1.]\n",
      " [0. 0. 1.]\n",
      " [0. 0. 1.]\n",
      " [0. 0. 1.]\n",
      " [0. 0. 1.]\n",
      " [0. 0. 1.]\n",
      " [0. 0. 1.]\n",
      " [0. 0. 1.]\n",
      " [0. 0. 1.]\n",
      " [0. 0. 1.]\n",
      " [0. 0. 1.]\n",
      " [0. 0. 1.]\n",
      " [0. 0. 1.]\n",
      " [0. 0. 1.]\n",
      " [0. 0. 1.]\n",
      " [0. 0. 1.]\n",
      " [0. 0. 1.]\n",
      " [0. 0. 1.]\n",
      " [0. 0. 1.]\n",
      " [0. 0. 1.]\n",
      " [0. 0. 1.]\n",
      " [0. 0. 1.]\n",
      " [0. 0. 1.]\n",
      " [0. 0. 1.]\n",
      " [0. 0. 1.]\n",
      " [0. 0. 1.]\n",
      " [0. 0. 1.]\n",
      " [0. 0. 1.]\n",
      " [0. 0. 1.]\n",
      " [0. 0. 1.]\n",
      " [0. 0. 1.]\n",
      " [0. 0. 1.]\n",
      " [0. 0. 1.]\n",
      " [0. 0. 1.]\n",
      " [0. 0. 1.]\n",
      " [0. 0. 1.]\n",
      " [0. 0. 1.]\n",
      " [0. 0. 1.]\n",
      " [0. 0. 1.]]\n"
     ]
    }
   ],
   "source": [
    "from tensorflow.keras.utils import to_categorical\n",
    "y_hot = to_categorical(y)\n",
    "print(y_hot)"
   ]
  },
  {
   "cell_type": "markdown",
   "id": "df8387f5",
   "metadata": {},
   "source": [
    "### 트레이닝/테스트 데이터 분할"
   ]
  },
  {
   "cell_type": "code",
   "execution_count": 6,
   "id": "fc0dc067",
   "metadata": {},
   "outputs": [],
   "source": [
    "from sklearn.model_selection import train_test_split\n",
    "X_tn, X_te, y_tn, y_te = train_test_split(X, y_hot, random_state=0)"
   ]
  },
  {
   "cell_type": "markdown",
   "id": "8b566198",
   "metadata": {},
   "source": [
    "### 신경망 생성"
   ]
  },
  {
   "cell_type": "code",
   "execution_count": 7,
   "id": "b3375849",
   "metadata": {},
   "outputs": [],
   "source": [
    "from tensorflow.keras.models import Sequential\n",
    "from tensorflow.keras.layers import Dense\n",
    "from tensorflow.keras.layers import BatchNormalization\n",
    "from tensorflow.keras.layers import Activation\n",
    "\n",
    "n_feat = X_tn.shape[1]                   # 신경망에 사용되는 피처 개수를 저장\n",
    "n_class = len(set(y))                    # 클래스 개수 저장\n",
    "epo = 30\n",
    "\n",
    "model = Sequential()\n",
    "model.add(Dense(20, input_dim = n_feat))\n",
    "model.add(BatchNormalization())\n",
    "model.add(Activation('relu'))\n",
    "model.add(Dense(n_class))\n",
    "model.add(Activation('softmax'))"
   ]
  },
  {
   "cell_type": "code",
   "execution_count": 8,
   "id": "a62de76e",
   "metadata": {},
   "outputs": [
    {
     "name": "stdout",
     "output_type": "stream",
     "text": [
      "Model: \"sequential\"\n",
      "_________________________________________________________________\n",
      "Layer (type)                 Output Shape              Param #   \n",
      "=================================================================\n",
      "dense (Dense)                (None, 20)                280       \n",
      "_________________________________________________________________\n",
      "batch_normalization (BatchNo (None, 20)                80        \n",
      "_________________________________________________________________\n",
      "activation (Activation)      (None, 20)                0         \n",
      "_________________________________________________________________\n",
      "dense_1 (Dense)              (None, 3)                 63        \n",
      "_________________________________________________________________\n",
      "activation_1 (Activation)    (None, 3)                 0         \n",
      "=================================================================\n",
      "Total params: 423\n",
      "Trainable params: 383\n",
      "Non-trainable params: 40\n",
      "_________________________________________________________________\n"
     ]
    }
   ],
   "source": [
    "model.summary()"
   ]
  },
  {
   "cell_type": "markdown",
   "id": "41b9163f",
   "metadata": {},
   "source": [
    "### 모형 컴파일"
   ]
  },
  {
   "cell_type": "code",
   "execution_count": 9,
   "id": "20d835ee",
   "metadata": {},
   "outputs": [],
   "source": [
    "model.compile(loss = 'categorical_crossentropy',\n",
    "            optimizer = 'adam',\n",
    "            metrics = ['accuracy'])"
   ]
  },
  {
   "cell_type": "markdown",
   "id": "dec0d22d",
   "metadata": {},
   "source": [
    "### 신경망 학습"
   ]
  },
  {
   "cell_type": "code",
   "execution_count": 10,
   "id": "b94abcb4",
   "metadata": {},
   "outputs": [
    {
     "name": "stdout",
     "output_type": "stream",
     "text": [
      "Train on 133 samples\n",
      "Epoch 1/30\n",
      "133/133 [==============================] - 1s 5ms/sample - loss: 1.8539 - accuracy: 0.3835\n",
      "Epoch 2/30\n",
      "133/133 [==============================] - 0s 256us/sample - loss: 1.5996 - accuracy: 0.3985\n",
      "Epoch 3/30\n",
      "133/133 [==============================] - 0s 263us/sample - loss: 1.3056 - accuracy: 0.3534\n",
      "Epoch 4/30\n",
      "133/133 [==============================] - 0s 263us/sample - loss: 1.0861 - accuracy: 0.3910\n",
      "Epoch 5/30\n",
      "133/133 [==============================] - 0s 256us/sample - loss: 0.9303 - accuracy: 0.4737\n",
      "Epoch 6/30\n",
      "133/133 [==============================] - 0s 263us/sample - loss: 0.8378 - accuracy: 0.6241\n",
      "Epoch 7/30\n",
      "133/133 [==============================] - 0s 263us/sample - loss: 0.8117 - accuracy: 0.6241\n",
      "Epoch 8/30\n",
      "133/133 [==============================] - 0s 263us/sample - loss: 0.7908 - accuracy: 0.6090\n",
      "Epoch 9/30\n",
      "133/133 [==============================] - 0s 250us/sample - loss: 0.7725 - accuracy: 0.6165\n",
      "Epoch 10/30\n",
      "133/133 [==============================] - 0s 286us/sample - loss: 0.7599 - accuracy: 0.6316\n",
      "Epoch 11/30\n",
      "133/133 [==============================] - 0s 301us/sample - loss: 0.8250 - accuracy: 0.6316\n",
      "Epoch 12/30\n",
      "133/133 [==============================] - 0s 316us/sample - loss: 0.7003 - accuracy: 0.7143\n",
      "Epoch 13/30\n",
      "133/133 [==============================] - 0s 293us/sample - loss: 0.7944 - accuracy: 0.6992\n",
      "Epoch 14/30\n",
      "133/133 [==============================] - 0s 248us/sample - loss: 0.7255 - accuracy: 0.7669\n",
      "Epoch 15/30\n",
      "133/133 [==============================] - 0s 241us/sample - loss: 0.7025 - accuracy: 0.7218\n",
      "Epoch 16/30\n",
      "133/133 [==============================] - 0s 256us/sample - loss: 0.5666 - accuracy: 0.8346\n",
      "Epoch 17/30\n",
      "133/133 [==============================] - 0s 241us/sample - loss: 0.6220 - accuracy: 0.7820\n",
      "Epoch 18/30\n",
      "133/133 [==============================] - 0s 248us/sample - loss: 0.5833 - accuracy: 0.8271\n",
      "Epoch 19/30\n",
      "133/133 [==============================] - 0s 255us/sample - loss: 0.6032 - accuracy: 0.8120\n",
      "Epoch 20/30\n",
      "133/133 [==============================] - 0s 248us/sample - loss: 0.6131 - accuracy: 0.7669\n",
      "Epoch 21/30\n",
      "133/133 [==============================] - 0s 248us/sample - loss: 0.5810 - accuracy: 0.7970\n",
      "Epoch 22/30\n",
      "133/133 [==============================] - 0s 248us/sample - loss: 0.5827 - accuracy: 0.8496\n",
      "Epoch 23/30\n",
      "133/133 [==============================] - 0s 248us/sample - loss: 0.5616 - accuracy: 0.7895\n",
      "Epoch 24/30\n",
      "133/133 [==============================] - 0s 256us/sample - loss: 0.5339 - accuracy: 0.8271\n",
      "Epoch 25/30\n",
      "133/133 [==============================] - 0s 248us/sample - loss: 0.4503 - accuracy: 0.8496\n",
      "Epoch 26/30\n",
      "133/133 [==============================] - 0s 241us/sample - loss: 0.4844 - accuracy: 0.8346\n",
      "Epoch 27/30\n",
      "133/133 [==============================] - 0s 248us/sample - loss: 0.4070 - accuracy: 0.8722\n",
      "Epoch 28/30\n",
      "133/133 [==============================] - 0s 271us/sample - loss: 0.5509 - accuracy: 0.8120\n",
      "Epoch 29/30\n",
      "133/133 [==============================] - 0s 271us/sample - loss: 0.5116 - accuracy: 0.8271\n",
      "Epoch 30/30\n",
      "133/133 [==============================] - 0s 248us/sample - loss: 0.4334 - accuracy: 0.8647\n"
     ]
    }
   ],
   "source": [
    "hist = model.fit(X_tn, y_tn, epochs = epo, batch_size=5)"
   ]
  },
  {
   "cell_type": "markdown",
   "id": "e2013dbd",
   "metadata": {},
   "source": [
    "### 학습 평가"
   ]
  },
  {
   "cell_type": "code",
   "execution_count": 11,
   "id": "2bbc7bbf",
   "metadata": {},
   "outputs": [
    {
     "name": "stdout",
     "output_type": "stream",
     "text": [
      "133/1 [======================================================================================================================================================================================================================================================================================================================================================================================================================================================================================================================================================================================================================================================================================================================================================================================================================================================================================================================================================================================================================================================================================================================================================================================================================================================================================================================================================================================================================================================================================================================================================================================================================================================================================================================================================================================================================================================================================================================================================================================================================================================================================================================================================================================================================================================================================================================================================================================================================================================================================================================================================================================================================================================================================================================================================================================================================================================================================================================================================================================================================================================================================================================================================================================================================================================================================================================================================================================================================================================================================================================================================================================================================================================================================================================================================================================================================================================================================================================================================================================================================================================================================================================================================] - 0s 449us/sample - loss: 0.4129 - accuracy: 0.8571\n",
      "0.85714287\n",
      "45/1 [======================================================================================================================================================================================================================================================================================================================================================================================================================================================================================================================================================================================================================================================================================================================================================================================================================================================================================================================================================================================================================================================================================================================================================================================================================================================================================================================================================================================================] - 0s 102us/sample - loss: 0.4434 - accuracy: 0.9333\n",
      "0.93333334\n"
     ]
    }
   ],
   "source": [
    "print(model.evaluate(X_tn, y_tn)[1])\n",
    "print(model.evaluate(X_te, y_te)[1])"
   ]
  },
  {
   "cell_type": "markdown",
   "id": "febb12e3",
   "metadata": {},
   "source": [
    "### 정확도 및 손실 정도 시각화 준비"
   ]
  },
  {
   "cell_type": "code",
   "execution_count": 13,
   "id": "95eead40",
   "metadata": {},
   "outputs": [
    {
     "name": "stdout",
     "output_type": "stream",
     "text": [
      "[ 1  2  3  4  5  6  7  8  9 10 11 12 13 14 15 16 17 18 19 20 21 22 23 24\n",
      " 25 26 27 28 29 30]\n"
     ]
    }
   ],
   "source": [
    "import numpy as np\n",
    "epoch = np.arange(1, epo+1)\n",
    "print(epoch)"
   ]
  },
  {
   "cell_type": "code",
   "execution_count": 14,
   "id": "9e32879f",
   "metadata": {},
   "outputs": [
    {
     "name": "stdout",
     "output_type": "stream",
     "text": [
      "[0.38345864, 0.39849624, 0.35338345, 0.39097744, 0.47368422, 0.62406015, 0.62406015, 0.60902256, 0.6165413, 0.6315789, 0.6315789, 0.71428573, 0.69924814, 0.7669173, 0.7218045, 0.83458644, 0.7819549, 0.8270677, 0.8120301, 0.7669173, 0.7969925, 0.84962404, 0.7894737, 0.8270677, 0.84962404, 0.83458644, 0.87218046, 0.8120301, 0.8270677, 0.86466163]\n"
     ]
    }
   ],
   "source": [
    "accuracy = hist.history['accuracy']\n",
    "print(accuracy)"
   ]
  },
  {
   "cell_type": "code",
   "execution_count": 15,
   "id": "d80c172c",
   "metadata": {},
   "outputs": [
    {
     "name": "stdout",
     "output_type": "stream",
     "text": [
      "[1.8539354792214875, 1.5995953979348778, 1.3055668961732907, 1.0861314691995319, 0.9302657210737243, 0.8378271146824485, 0.811660359228464, 0.7907625898382717, 0.7725107586921606, 0.7598636134674674, 0.8249640061443013, 0.7002797709371811, 0.7944263927918628, 0.725481200935249, 0.7024984570374166, 0.5665542991985952, 0.621996892125983, 0.583277684405334, 0.6031928308924338, 0.613077204702492, 0.5810327174744212, 0.5826524980086133, 0.5615882456750798, 0.53387840013755, 0.4502817774401571, 0.48436081599920316, 0.4070402323303366, 0.5508983108334076, 0.5115865716584643, 0.4334486834984973]\n"
     ]
    }
   ],
   "source": [
    "loss = hist.history['loss']\n",
    "print(loss)"
   ]
  },
  {
   "cell_type": "markdown",
   "id": "a422df4f",
   "metadata": {},
   "source": [
    "### 정확도 학습 그래프"
   ]
  },
  {
   "cell_type": "code",
   "execution_count": 16,
   "id": "6e4fd44f",
   "metadata": {},
   "outputs": [
    {
     "data": {
      "image/png": "[encoded data removed]",
      "text/plain": [
       "<Figure size 432x288 with 1 Axes>"
      ]
     },
     "metadata": {
      "needs_background": "light"
     },
     "output_type": "display_data"
    }
   ],
   "source": [
    "import matplotlib.pyplot as plt\n",
    "plt.plot(epoch, accuracy, label='accuracy')\n",
    "plt.xlabel('epoch')\n",
    "plt.ylabel('accuracy')\n",
    "plt.legend()\n",
    "plt.show()"
   ]
  },
  {
   "cell_type": "markdown",
   "id": "485b423e",
   "metadata": {},
   "source": [
    "### 손실 그래프"
   ]
  },
  {
   "cell_type": "code",
   "execution_count": 17,
   "id": "4d0751cb",
   "metadata": {},
   "outputs": [
    {
     "data": {
      "image/png": "[encoded data removed]",
      "text/plain": [
       "<Figure size 432x288 with 1 Axes>"
      ]
     },
     "metadata": {
      "needs_background": "light"
     },
     "output_type": "display_data"
    }
   ],
   "source": [
    "import matplotlib.pyplot as plt\n",
    "plt.plot(epoch, loss, 'r', label = 'loss')\n",
    "plt.xlabel('epoch')\n",
    "plt.ylabel('loss')\n",
    "plt.legend()\n",
    "plt.show()"
   ]
  },
  {
   "cell_type": "markdown",
   "id": "1791696b",
   "metadata": {},
   "source": [
    "## 회귀 신경망 실습"
   ]
  },
  {
   "cell_type": "markdown",
   "id": "5a3d6ed5",
   "metadata": {},
   "source": [
    "### 랜덤 시드 설정"
   ]
  },
  {
   "cell_type": "code",
   "execution_count": 18,
   "id": "ba4bb5d9",
   "metadata": {},
   "outputs": [],
   "source": [
    "import numpy as np\n",
    "import tensorflow as tf\n",
    "np.random.seed(0)\n",
    "tf.random.set_seed(0)"
   ]
  },
  {
   "cell_type": "markdown",
   "id": "86f8801e",
   "metadata": {},
   "source": [
    "### 데이터 불러오기"
   ]
  },
  {
   "cell_type": "code",
   "execution_count": 20,
   "id": "c9b53433",
   "metadata": {},
   "outputs": [],
   "source": [
    "from sklearn import datasets\n",
    "raw_boston = datasets.load_boston()"
   ]
  },
  {
   "cell_type": "markdown",
   "id": "d996d667",
   "metadata": {},
   "source": [
    "### 피처, 타깃 데이터 지정"
   ]
  },
  {
   "cell_type": "code",
   "execution_count": 21,
   "id": "1bbdbd2e",
   "metadata": {},
   "outputs": [],
   "source": [
    "X = raw_boston.data\n",
    "y = raw_boston.target"
   ]
  },
  {
   "cell_type": "markdown",
   "id": "58f127b8",
   "metadata": {},
   "source": [
    "### 피처 데이터 차원, 타깃 데이터 종류 확인"
   ]
  },
  {
   "cell_type": "code",
   "execution_count": 22,
   "id": "925e44f6",
   "metadata": {},
   "outputs": [
    {
     "name": "stdout",
     "output_type": "stream",
     "text": [
      "(506, 13)\n"
     ]
    }
   ],
   "source": [
    "print(X.shape)"
   ]
  },
  {
   "cell_type": "code",
   "execution_count": 23,
   "id": "7a0706c3",
   "metadata": {},
   "outputs": [
    {
     "name": "stdout",
     "output_type": "stream",
     "text": [
      "{5.0, 6.3, 7.2, 8.8, 7.4, 10.2, 11.8, 12.7, 13.6, 14.5, 15.0, 16.5, 17.5, 18.9, 18.2, 20.4, 21.6, 22.9, 21.7, 24.0, 19.9, 26.6, 26.5, 27.5, 23.1, 27.1, 28.7, 24.7, 30.8, 33.4, 34.7, 34.9, 36.2, 35.4, 31.6, 33.0, 38.7, 33.2, 43.8, 41.3, 37.2, 39.8, 42.3, 48.5, 44.8, 50.0, 46.7, 48.3, 44.0, 48.8, 46.0, 10.5, 11.5, 11.0, 12.5, 12.0, 13.5, 13.0, 14.0, 16.6, 16.0, 16.1, 16.4, 17.4, 17.1, 17.0, 17.6, 17.9, 18.4, 18.6, 18.5, 18.0, 18.1, 19.6, 19.4, 19.5, 19.1, 19.0, 20.0, 20.5, 20.9, 20.6, 20.1, 21.0, 21.4, 21.5, 21.9, 21.1, 22.0, 22.5, 22.6, 22.4, 22.1, 23.4, 23.5, 23.9, 23.6, 23.0, 24.1, 24.6, 24.4, 24.5, 25.0, 25.1, 26.4, 27.0, 27.9, 28.0, 28.4, 28.1, 28.5, 28.6, 29.4, 29.9, 29.6, 29.1, 29.0, 30.5, 30.1, 31.1, 31.5, 31.0, 32.5, 32.0, 32.9, 32.4, 32.2, 33.3, 33.8, 33.1, 32.7, 8.4, 34.6, 35.2, 35.1, 10.4, 10.9, 7.0, 36.4, 36.0, 36.5, 36.1, 11.9, 37.9, 37.0, 37.6, 37.3, 13.9, 13.4, 14.4, 14.9, 15.4, 8.5, 41.7, 42.8, 43.1, 43.5, 45.4, 9.5, 8.3, 8.7, 9.7, 10.8, 11.3, 11.7, 12.3, 12.8, 13.2, 13.3, 13.8, 14.8, 14.3, 14.2, 15.2, 15.7, 15.3, 16.2, 16.8, 16.3, 16.7, 17.3, 17.8, 17.2, 17.7, 18.7, 18.8, 18.3, 19.3, 19.7, 19.8, 19.2, 20.2, 20.8, 20.3, 20.7, 21.2, 21.8, 22.2, 22.8, 22.7, 22.3, 23.3, 23.8, 23.2, 23.7, 24.8, 24.2, 24.3, 25.3, 25.2, 26.7, 26.2, 7.5, 28.2, 29.8, 30.3, 30.7, 5.6, 31.7, 31.2, 8.1, 9.6, 12.1, 12.6, 13.1, 14.6, 14.1, 15.6, 15.1}\n"
     ]
    }
   ],
   "source": [
    "print(set(y))"
   ]
  },
  {
   "cell_type": "markdown",
   "id": "f618c1ef",
   "metadata": {},
   "source": [
    "### 트레이닝/테스트 데이터 분할"
   ]
  },
  {
   "cell_type": "code",
   "execution_count": 24,
   "id": "8b9c82c8",
   "metadata": {},
   "outputs": [],
   "source": [
    "from sklearn.model_selection import train_test_split\n",
    "X_tn, X_te, y_tn, y_te = train_test_split(X, y, random_state=0)"
   ]
  },
  {
   "cell_type": "markdown",
   "id": "84c8a4d9",
   "metadata": {},
   "source": [
    "### 신경망 생성"
   ]
  },
  {
   "cell_type": "code",
   "execution_count": 26,
   "id": "d22e5c53",
   "metadata": {},
   "outputs": [],
   "source": [
    "from tensorflow.keras.models import Sequential\n",
    "from tensorflow.keras.layers import Dense\n",
    "\n",
    "n_feat = X_tn.shape[1]\n",
    "epo = 30\n",
    "\n",
    "model = Sequential()\n",
    "model.add(Dense(20, input_dim = n_feat, activation = 'relu'))\n",
    "model.add(Dense(1))"
   ]
  },
  {
   "cell_type": "markdown",
   "id": "010f4af4",
   "metadata": {},
   "source": [
    "### 모형 컴파일"
   ]
  },
  {
   "cell_type": "code",
   "execution_count": 28,
   "id": "811ada51",
   "metadata": {},
   "outputs": [],
   "source": [
    "model.compile(loss = 'mean_squared_error',\n",
    "             optimizer = 'adam',\n",
    "             metrics = ['mean_squared_error'])"
   ]
  },
  {
   "cell_type": "markdown",
   "id": "66f17103",
   "metadata": {},
   "source": [
    "### 신경망 학습"
   ]
  },
  {
   "cell_type": "code",
   "execution_count": 29,
   "id": "26e04702",
   "metadata": {},
   "outputs": [
    {
     "name": "stdout",
     "output_type": "stream",
     "text": [
      "Train on 379 samples\n",
      "Epoch 1/30\n",
      "379/379 [==============================] - 0s 958us/sample - loss: 479.8058 - mean_squared_error: 479.8058\n",
      "Epoch 2/30\n",
      "379/379 [==============================] - 0s 208us/sample - loss: 96.0528 - mean_squared_error: 96.0527\n",
      "Epoch 3/30\n",
      "379/379 [==============================] - 0s 210us/sample - loss: 86.8360 - mean_squared_error: 86.8360\n",
      "Epoch 4/30\n",
      "379/379 [==============================] - 0s 204us/sample - loss: 67.8890 - mean_squared_error: 67.8890\n",
      "Epoch 5/30\n",
      "379/379 [==============================] - 0s 204us/sample - loss: 59.9239 - mean_squared_error: 59.9239\n",
      "Epoch 6/30\n",
      "379/379 [==============================] - 0s 207us/sample - loss: 54.8727 - mean_squared_error: 54.8727\n",
      "Epoch 7/30\n",
      "379/379 [==============================] - 0s 207us/sample - loss: 50.7333 - mean_squared_error: 50.7333\n",
      "Epoch 8/30\n",
      "379/379 [==============================] - 0s 208us/sample - loss: 46.8916 - mean_squared_error: 46.8916\n",
      "Epoch 9/30\n",
      "379/379 [==============================] - 0s 208us/sample - loss: 47.9132 - mean_squared_error: 47.9132\n",
      "Epoch 10/30\n",
      "379/379 [==============================] - 0s 248us/sample - loss: 42.5450 - mean_squared_error: 42.5450\n",
      "Epoch 11/30\n",
      "379/379 [==============================] - 0s 251us/sample - loss: 46.0313 - mean_squared_error: 46.0313\n",
      "Epoch 12/30\n",
      "379/379 [==============================] - 0s 208us/sample - loss: 38.9554 - mean_squared_error: 38.9554\n",
      "Epoch 13/30\n",
      "379/379 [==============================] - 0s 195us/sample - loss: 36.9249 - mean_squared_error: 36.9249\n",
      "Epoch 14/30\n",
      "379/379 [==============================] - 0s 190us/sample - loss: 35.1518 - mean_squared_error: 35.1518\n",
      "Epoch 15/30\n",
      "379/379 [==============================] - 0s 183us/sample - loss: 35.9116 - mean_squared_error: 35.9116\n",
      "Epoch 16/30\n",
      "379/379 [==============================] - 0s 193us/sample - loss: 34.0524 - mean_squared_error: 34.0524\n",
      "Epoch 17/30\n",
      "379/379 [==============================] - 0s 190us/sample - loss: 37.5056 - mean_squared_error: 37.5056\n",
      "Epoch 18/30\n",
      "379/379 [==============================] - 0s 198us/sample - loss: 34.2320 - mean_squared_error: 34.2320\n",
      "Epoch 19/30\n",
      "379/379 [==============================] - 0s 201us/sample - loss: 35.7681 - mean_squared_error: 35.7681\n",
      "Epoch 20/30\n",
      "379/379 [==============================] - 0s 201us/sample - loss: 33.8966 - mean_squared_error: 33.8966\n",
      "Epoch 21/30\n",
      "379/379 [==============================] - 0s 201us/sample - loss: 36.5300 - mean_squared_error: 36.5300\n",
      "Epoch 22/30\n",
      "379/379 [==============================] - 0s 203us/sample - loss: 35.1291 - mean_squared_error: 35.1291\n",
      "Epoch 23/30\n",
      "379/379 [==============================] - 0s 206us/sample - loss: 35.6674 - mean_squared_error: 35.6674\n",
      "Epoch 24/30\n",
      "379/379 [==============================] - 0s 198us/sample - loss: 33.1912 - mean_squared_error: 33.1912\n",
      "Epoch 25/30\n",
      "379/379 [==============================] - 0s 198us/sample - loss: 35.4643 - mean_squared_error: 35.4643\n",
      "Epoch 26/30\n",
      "379/379 [==============================] - 0s 197us/sample - loss: 33.6818 - mean_squared_error: 33.6818\n",
      "Epoch 27/30\n",
      "379/379 [==============================] - 0s 198us/sample - loss: 31.9191 - mean_squared_error: 31.9191\n",
      "Epoch 28/30\n",
      "379/379 [==============================] - 0s 195us/sample - loss: 33.4358 - mean_squared_error: 33.4358\n",
      "Epoch 29/30\n",
      "379/379 [==============================] - 0s 198us/sample - loss: 32.6290 - mean_squared_error: 32.6290\n",
      "Epoch 30/30\n",
      "379/379 [==============================] - 0s 203us/sample - loss: 33.5811 - mean_squared_error: 33.5811\n"
     ]
    }
   ],
   "source": [
    "hist = model.fit(X_tn, y_tn, epochs = epo, batch_size = 5)"
   ]
  },
  {
   "cell_type": "markdown",
   "id": "bccd407e",
   "metadata": {},
   "source": [
    "### 모형 평가"
   ]
  },
  {
   "cell_type": "code",
   "execution_count": 30,
   "id": "6733e7b4",
   "metadata": {},
   "outputs": [
    {
     "name": "stdout",
     "output_type": "stream",
     "text": [
      "\r",
      "379/1 [==========================================================================================================================================================================================================================================================================================================================================================================================================================================================================================================================================================================================================================================================================================================================================================================================================================================================================================================================================================================================================================================================================================================================================================================================================================================================================================================================================================================================================================================================================================================================================================================================================================================================================================================================================================================================================================================================================================================================================================================================================================================================================================================================================================================================================================================================================================================================================================================================================================================================================================================================================================================================================================================================================================================================================================================================================================================================================================================================================================================================================================================================================================================================================================================================================================================================================================================================================================================================================================================================================================================================================================================================================================================================================================================================================================================================================================================================================================================================================================================================================================================================================================================================================================================================================================================================================================================================================================================================================================================================================================================================================================================================================================================================================================================================================================================================================================================================================================================================================================================================================================================================================================================================================================================================================================================================================================================================================================================================================================================================================================================================================================================================================================================================================================================================================================================================================================================================================================================================================================================================================================================================================================================================================================================================================================================================================================================================================================================================================================================================================================================================================================================================================================================================================================================================================================================================================================================================================================================================================================================================================================================================================================================================================================================================================================================================================================================================================================================================================================================================================================================================================================================================================================================================================================================================================================================================================================================================================================================================================================================================================================================================================================================================================================================================================================================================================================================================================================================================================================================================================================================================================================================================================================================================================================================================================================================================================================================================================================================================================================================================================================================================================================================================================================================================================================================================================================================================================================================================================================================================================================================================================================================================================================================================================================================================================================================================================================================================================================================================================================================================================================================================================================================================================================================================================================================================================================================================================================================================================================================================================================================================================================================================================================================================================================================================================================================================================================================================================================================================================================================================================================================================================================================================================================================================================================================================================================================================================================================================================================================================================================================================================================================================================================================================================================================================================================================================================================================] - 0s 153us/sample - loss: 27.0572 - mean_squared_error: 31.3568\n"
     ]
    },
    {
     "name": "stdout",
     "output_type": "stream",
     "text": [
      "31.356752\n",
      "127/1 [==================================================================================================================================================================================================================================================================================================================================================================================================================================================================================================================================================================================================================================================================================================================================================================================================================================================================================================================================================================================================================================================================================================================================================================================================================================================================================================================================================================================================================================================================================================================================================================================================================================================================================================================================================================================================================================================================================================================================================================================================================================================================================================================================================================================================================================================================================================================================================================================================================================================================================================================================================================================================================================================================================================================================================================================================================================================================================================================================================================================================================================================================================================================================================================================================================================================================================================================================================================================================================================================================================================================================================================================================================================================================================================================================================================================================================================================================================================================================================================] - 0s 47us/sample - loss: 39.3467 - mean_squared_error: 46.8209\n",
      "46.820923\n"
     ]
    }
   ],
   "source": [
    "print(model.evaluate(X_tn, y_tn)[1])\n",
    "print(model.evaluate(X_te, y_te)[1])"
   ]
  },
  {
   "cell_type": "markdown",
   "id": "3b38e305",
   "metadata": {},
   "source": [
    "### 시각화 준비 과정"
   ]
  },
  {
   "cell_type": "code",
   "execution_count": 32,
   "id": "fd920121",
   "metadata": {},
   "outputs": [
    {
     "name": "stdout",
     "output_type": "stream",
     "text": [
      "[ 1  2  3  4  5  6  7  8  9 10 11 12 13 14 15 16 17 18 19 20 21 22 23 24\n",
      " 25 26 27 28 29 30]\n"
     ]
    }
   ],
   "source": [
    "import numpy as np\n",
    "epoch = np.arange(1, epo + 1)\n",
    "print(epoch)"
   ]
  },
  {
   "cell_type": "code",
   "execution_count": 33,
   "id": "3e9a5976",
   "metadata": {},
   "outputs": [
    {
     "name": "stdout",
     "output_type": "stream",
     "text": [
      "[479.80582, 96.05275, 86.83599, 67.88903, 59.92392, 54.872726, 50.733334, 46.891605, 47.91315, 42.544987, 46.03134, 38.955406, 36.924923, 35.15177, 35.911556, 34.05242, 37.505554, 34.232033, 35.76808, 33.896606, 36.52996, 35.129063, 35.66745, 33.191166, 35.46431, 33.68179, 31.919054, 33.435787, 32.629005, 33.58113]\n"
     ]
    }
   ],
   "source": [
    "mse = hist.history['mean_squared_error']\n",
    "print(mse)"
   ]
  },
  {
   "cell_type": "code",
   "execution_count": 35,
   "id": "f5fb3bf2",
   "metadata": {},
   "outputs": [
    {
     "name": "stdout",
     "output_type": "stream",
     "text": [
      "[479.8057891724921, 96.05276863430295, 86.83599813003339, 67.8890343816425, 59.9239087205449, 54.87273698117299, 50.733341237171345, 46.89160451599665, 47.91315160137368, 42.54497977784567, 46.031340047363244, 38.95540370224019, 36.92492445037359, 35.15176932100885, 35.911559134485856, 34.052418857262445, 37.50555559135679, 34.2320348411248, 35.76807752888561, 33.89661338335606, 36.52996005860985, 35.12906224746503, 35.66744688444213, 33.19116699475412, 35.46430729435742, 33.68178953816205, 31.919055327261972, 33.43578224642925, 32.62900313978774, 33.58113577183444]\n"
     ]
    }
   ],
   "source": [
    "loss = hist.history['loss']\n",
    "print(loss)"
   ]
  },
  {
   "cell_type": "markdown",
   "id": "74e4a318",
   "metadata": {},
   "source": [
    "### MSE 학습 그래프"
   ]
  },
  {
   "cell_type": "code",
   "execution_count": 36,
   "id": "4f622f72",
   "metadata": {},
   "outputs": [
    {
     "data": {
      "image/png": "[encoded data removed]",
      "text/plain": [
       "<Figure size 432x288 with 1 Axes>"
      ]
     },
     "metadata": {
      "needs_background": "light"
     },
     "output_type": "display_data"
    }
   ],
   "source": [
    "import matplotlib.pyplot as plt\n",
    "plt.plot(epoch, mse, label='mse')\n",
    "plt.xlabel('mean_squared_error')\n",
    "plt.legend()\n",
    "plt.show()"
   ]
  },
  {
   "cell_type": "markdown",
   "id": "7bc20b11",
   "metadata": {},
   "source": [
    "### 손실 학습 그래프"
   ]
  },
  {
   "cell_type": "code",
   "execution_count": 37,
   "id": "7546f7a2",
   "metadata": {},
   "outputs": [
    {
     "data": {
      "image/png": "[encoded data removed]",
      "text/plain": [
       "<Figure size 432x288 with 1 Axes>"
      ]
     },
     "metadata": {
      "needs_background": "light"
     },
     "output_type": "display_data"
    }
   ],
   "source": [
    "import matplotlib.pyplot as plt\n",
    "plt.plot(epoch,loss, 'r', label = 'loss')\n",
    "plt.xlabel('epoch')\n",
    "plt.ylabel('loss')\n",
    "plt.legend()\n",
    "plt.show()"
   ]
  },
  {
   "cell_type": "markdown",
   "id": "aa149d03",
   "metadata": {},
   "source": [
    "### 실제값, 예측값 데이터 프레임 생성"
   ]
  },
  {
   "cell_type": "code",
   "execution_count": 38,
   "id": "9b7398b9",
   "metadata": {},
   "outputs": [
    {
     "name": "stdout",
     "output_type": "stream",
     "text": [
      "[18.382832  21.890337  29.210135  12.314684  18.406872  23.431126\n",
      " 15.859535  24.914831  16.141886   9.294696   6.7170815 11.368488\n",
      " 14.627799   6.7244773 36.676723  27.281343  17.97384   34.2865\n",
      " 27.691458  24.287592  25.912405  20.210974  19.433868  30.029924\n",
      " 23.936972  13.367836  20.504663  13.566305  31.31195   18.665377\n",
      " 14.9331455 17.152182  21.314695  23.944914  27.90721   17.056541\n",
      "  8.352982  21.03223    8.759733  10.108026  25.138039  21.402199\n",
      " 16.385046  13.820709  20.497738  26.67551   19.269619  17.562687\n",
      " 11.200668  23.877743   9.191819  14.153724  22.068832  26.003172\n",
      " 10.400229  18.73908   21.041758  13.189089  16.599367  21.043016\n",
      " 20.823235  21.807455  28.818836  27.226244  13.31085   28.460651\n",
      " 15.756354  17.360281  11.365095  23.319921  19.143528  20.96789\n",
      " 31.664627  28.25146   21.217918   2.9079304 30.178116  23.352217\n",
      " 25.98124   19.857761  26.331224  20.775368  18.789385  31.618542\n",
      " 31.320967  24.926342  23.204046   6.5281205 27.674667  13.214585\n",
      " 14.547601   6.7673397 28.346586  30.05326   27.620888  21.269278\n",
      "  1.1215584 29.739353   9.850464  21.47418   23.0007    22.45006\n",
      " 28.501425  19.95277   24.293606  23.644703   1.3887396 15.924337\n",
      " 26.53592   24.522465  29.791735   8.891999  19.250126  13.172591\n",
      "  8.487875  20.094088  -2.0275447 22.528921   9.651933  44.60629\n",
      " 27.97048   11.781659  18.671608  21.055185  25.749624  20.292889\n",
      " 33.70656  ]\n"
     ]
    }
   ],
   "source": [
    "pred_y = model.predict(X_te).flatten()\n",
    "print(pred_y)"
   ]
  },
  {
   "cell_type": "code",
   "execution_count": 40,
   "id": "a73b48fa",
   "metadata": {},
   "outputs": [
    {
     "data": {
      "text/html": [
       "<div>\n",
       "<style scoped>\n",
       "    .dataframe tbody tr th:only-of-type {\n",
       "        vertical-align: middle;\n",
       "    }\n",
       "\n",
       "    .dataframe tbody tr th {\n",
       "        vertical-align: top;\n",
       "    }\n",
       "\n",
       "    .dataframe thead th {\n",
       "        text-align: right;\n",
       "    }\n",
       "</style>\n",
       "<table border=\"1\" class=\"dataframe\">\n",
       "  <thead>\n",
       "    <tr style=\"text-align: right;\">\n",
       "      <th></th>\n",
       "      <th>predict_val</th>\n",
       "      <th>real_val</th>\n",
       "    </tr>\n",
       "  </thead>\n",
       "  <tbody>\n",
       "    <tr>\n",
       "      <th>0</th>\n",
       "      <td>18.382832</td>\n",
       "      <td>22.6</td>\n",
       "    </tr>\n",
       "    <tr>\n",
       "      <th>1</th>\n",
       "      <td>21.890337</td>\n",
       "      <td>50.0</td>\n",
       "    </tr>\n",
       "    <tr>\n",
       "      <th>2</th>\n",
       "      <td>29.210135</td>\n",
       "      <td>23.0</td>\n",
       "    </tr>\n",
       "  </tbody>\n",
       "</table>\n",
       "</div>"
      ],
      "text/plain": [
       "   predict_val  real_val\n",
       "0    18.382832      22.6\n",
       "1    21.890337      50.0\n",
       "2    29.210135      23.0"
      ]
     },
     "execution_count": 40,
     "metadata": {},
     "output_type": "execute_result"
    }
   ],
   "source": [
    "import pandas as pd\n",
    "res_df = pd.DataFrame(pred_y, columns = ['predict_val'])\n",
    "res_df['real_val'] = y_te           # 새로운 열 추가\n",
    "res_df.head(3)"
   ]
  },
  {
   "cell_type": "code",
   "execution_count": 41,
   "id": "234559f4",
   "metadata": {},
   "outputs": [
    {
     "data": {
      "text/html": [
       "<div>\n",
       "<style scoped>\n",
       "    .dataframe tbody tr th:only-of-type {\n",
       "        vertical-align: middle;\n",
       "    }\n",
       "\n",
       "    .dataframe tbody tr th {\n",
       "        vertical-align: top;\n",
       "    }\n",
       "\n",
       "    .dataframe thead th {\n",
       "        text-align: right;\n",
       "    }\n",
       "</style>\n",
       "<table border=\"1\" class=\"dataframe\">\n",
       "  <thead>\n",
       "    <tr style=\"text-align: right;\">\n",
       "      <th></th>\n",
       "      <th>predict_val</th>\n",
       "      <th>real_val</th>\n",
       "    </tr>\n",
       "  </thead>\n",
       "  <tbody>\n",
       "    <tr>\n",
       "      <th>116</th>\n",
       "      <td>-2.027545</td>\n",
       "      <td>8.4</td>\n",
       "    </tr>\n",
       "    <tr>\n",
       "      <th>96</th>\n",
       "      <td>1.121558</td>\n",
       "      <td>13.8</td>\n",
       "    </tr>\n",
       "    <tr>\n",
       "      <th>106</th>\n",
       "      <td>1.388740</td>\n",
       "      <td>10.4</td>\n",
       "    </tr>\n",
       "  </tbody>\n",
       "</table>\n",
       "</div>"
      ],
      "text/plain": [
       "     predict_val  real_val\n",
       "116    -2.027545       8.4\n",
       "96      1.121558      13.8\n",
       "106     1.388740      10.4"
      ]
     },
     "execution_count": 41,
     "metadata": {},
     "output_type": "execute_result"
    }
   ],
   "source": [
    "df_sort = res_df.sort_values([\"predict_val\"], ascending=True)      # 오름차순 정렬\n",
    "df_sort.head(3)"
   ]
  },
  {
   "cell_type": "markdown",
   "id": "41c3bd01",
   "metadata": {},
   "source": [
    "### 예측값, 실제값 그래프"
   ]
  },
  {
   "cell_type": "code",
   "execution_count": 43,
   "id": "a489b66b",
   "metadata": {},
   "outputs": [
    {
     "data": {
      "text/plain": [
       "<function matplotlib.pyplot.show(close=None, block=None)>"
      ]
     },
     "execution_count": 43,
     "metadata": {},
     "output_type": "execute_result"
    },
    {
     "data": {
      "image/png": "[encoded data removed]",
      "text/plain": [
       "<Figure size 432x288 with 1 Axes>"
      ]
     },
     "metadata": {
      "needs_background": "light"
     },
     "output_type": "display_data"
    }
   ],
   "source": [
    "import matplotlib.pyplot as plt\n",
    "import numpy as np\n",
    "idx = np.arange(1, len(df_sort) + 1)       # x 축 설정\n",
    "plt.scatter(idx, df_sort['real_val'], marker = 'o', label = 'real_val')      # 스케터 플롯 생성\n",
    "plt.plot(idx, df_sort['predict_val'], color = 'r', label = 'predict_val')\n",
    "plt.xlabel('index')\n",
    "plt.ylabel('value')\n",
    "plt.legend()\n",
    "plt.show"
   ]
  }
 ],
 "metadata": {
  "kernelspec": {
   "display_name": "Python 3 (ipykernel)",
   "language": "python",
   "name": "python3"
  },
  "language_info": {
   "codemirror_mode": {
    "name": "ipython",
    "version": 3
   },
   "file_extension": ".py",
   "mimetype": "text/x-python",
   "name": "python",
   "nbconvert_exporter": "python",
   "pygments_lexer": "ipython3",
   "version": "3.7.6"
  },
  "varInspector": {
   "cols": {
    "lenName": 16,
    "lenType": 16,
    "lenVar": 40
   },
   "kernels_config": {
    "python": {
     "delete_cmd_postfix": "",
     "delete_cmd_prefix": "del ",
     "library": "var_list.py",
     "varRefreshCmd": "print(var_dic_list())"
    },
    "r": {
     "delete_cmd_postfix": ") ",
     "delete_cmd_prefix": "rm(",
     "library": "var_list.r",
     "varRefreshCmd": "cat(var_dic_list()) "
    }
   },
   "types_to_exclude": [
    "module",
    "function",
    "builtin_function_or_method",
    "instance",
    "_Feature"
   ],
   "window_display": false
  }
 },
 "nbformat": 4,
 "nbformat_minor": 5
}
