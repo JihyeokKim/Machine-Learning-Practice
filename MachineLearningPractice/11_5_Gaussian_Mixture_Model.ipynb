{
 "cells": [
  {
   "cell_type": "markdown",
   "id": "3fbfd44c",
   "metadata": {},
   "source": [
    "# 가우시안 혼합 모형\n",
    "- 전체 집단의 하위 집단이 여러개의 가우시안 분포라고 가정\n",
    "- EM 알고리즘 (Expectation Maxmization Algorithm)을 통해 파라미터를 추정\n",
    "\n",
    "1) 임의의 방법으로 추정하려는 파라미터 (하위집단 분포의 평균, 표준편차, 전체 집단에서의 비율) 초기화\n",
    "\n",
    "2) E-step: 어떤 데이터가 특정 하위 집단에서 추출되었을 확률 계산\n",
    "\n",
    "3) M-step: 각 하위 집단의 파라미터 추정\n",
    "\n",
    "4) 2, 3 단계를 반복"
   ]
  },
  {
   "cell_type": "markdown",
   "id": "66eb8aaf",
   "metadata": {},
   "source": [
    "# 가우시안 혼합 모형 실습"
   ]
  },
  {
   "cell_type": "markdown",
   "id": "2e89ca07",
   "metadata": {},
   "source": [
    "### 데이터 생성"
   ]
  },
  {
   "cell_type": "code",
   "execution_count": 2,
   "id": "8569b239",
   "metadata": {},
   "outputs": [],
   "source": [
    "from sklearn.datasets import make_blobs\n",
    "X, y = make_blobs(n_samples=200,\n",
    "                 n_features=2,\n",
    "                 centers=2,\n",
    "                 random_state=2)"
   ]
  },
  {
   "cell_type": "markdown",
   "id": "91084e15",
   "metadata": {},
   "source": [
    "### 생성된 데이터 차원 확인"
   ]
  },
  {
   "cell_type": "code",
   "execution_count": 3,
   "id": "570c133c",
   "metadata": {},
   "outputs": [
    {
     "name": "stdout",
     "output_type": "stream",
     "text": [
      "(200, 2)\n",
      "(200,)\n"
     ]
    }
   ],
   "source": [
    "print(X.shape)\n",
    "print(y.shape)"
   ]
  },
  {
   "cell_type": "markdown",
   "id": "6703dbf8",
   "metadata": {},
   "source": [
    "### 라벨링되지 않은 데이터 플롯"
   ]
  },
  {
   "cell_type": "code",
   "execution_count": 4,
   "id": "d5a0ba01",
   "metadata": {},
   "outputs": [
    {
     "data": {
      "image/png": "[encoded data removed]",
      "text/plain": [
       "<Figure size 432x288 with 1 Axes>"
      ]
     },
     "metadata": {
      "needs_background": "light"
     },
     "output_type": "display_data"
    }
   ],
   "source": [
    "import matplotlib.pyplot as plt\n",
    "plt.scatter(X[:, 0], X[:, 1],\n",
    "           c='gray',\n",
    "           edgecolor='black',\n",
    "           marker='o')\n",
    "plt.show()"
   ]
  },
  {
   "cell_type": "markdown",
   "id": "11d4dff9",
   "metadata": {},
   "source": [
    "### 가우시안 혼합 모형"
   ]
  },
  {
   "cell_type": "code",
   "execution_count": 8,
   "id": "22ed5799",
   "metadata": {},
   "outputs": [
    {
     "name": "stdout",
     "output_type": "stream",
     "text": [
      "[1 0 1 1 0 1 0 0 1 0 1 0 0 1 0 1 1 1 1 1 1 0 1 1 1 1 0 1 1 0 0 0 1 0 0 1 0\n",
      " 1 1 0 1 0 1 1 0 0 0 0 0 1 0 1 0 0 1 1 1 0 1 0 1 0 1 0 0 1 0 0 1 1 1 0 0 1\n",
      " 0 1 1 1 1 0 1 0 0 0 0 1 1 0 1 1 0 0 0 0 1 0 1 1 1 0 0 1 0 0 1 0 0 0 1 0 0\n",
      " 1 1 1 1 0 1 1 1 1 1 1 0 0 0 1 0 0 1 1 1 0 0 1 0 0 0 0 1 1 0 1 1 0 0 0 0 1\n",
      " 1 0 1 0 1 1 0 0 1 1 0 0 1 1 1 0 0 1 1 0 0 1 1 0 0 0 0 0 1 1 0 1 0 1 0 1 1\n",
      " 0 0 1 0 0 1 1 0 1 1 0 0 0 1 0]\n"
     ]
    }
   ],
   "source": [
    "from sklearn.mixture import GaussianMixture\n",
    "gmm = GaussianMixture(n_components=2,                   # 두 개의 클러스터\n",
    "                    random_state=0)\n",
    "gmm.fit(X)\n",
    "label_gmm = gmm.predict(X)\n",
    "print(label_gmm)"
   ]
  },
  {
   "cell_type": "markdown",
   "id": "a7050464",
   "metadata": {},
   "source": [
    "### 시각화를 위한 데이터 프레임 생성"
   ]
  },
  {
   "cell_type": "code",
   "execution_count": 12,
   "id": "d089e480",
   "metadata": {},
   "outputs": [
    {
     "data": {
      "text/html": [
       "<div>\n",
       "<style scoped>\n",
       "    .dataframe tbody tr th:only-of-type {\n",
       "        vertical-align: middle;\n",
       "    }\n",
       "\n",
       "    .dataframe tbody tr th {\n",
       "        vertical-align: top;\n",
       "    }\n",
       "\n",
       "    .dataframe thead th {\n",
       "        text-align: right;\n",
       "    }\n",
       "</style>\n",
       "<table border=\"1\" class=\"dataframe\">\n",
       "  <thead>\n",
       "    <tr style=\"text-align: right;\">\n",
       "      <th></th>\n",
       "      <th>gmm_comp1</th>\n",
       "      <th>gmm_comp2</th>\n",
       "      <th>target</th>\n",
       "      <th>label_gmm</th>\n",
       "    </tr>\n",
       "  </thead>\n",
       "  <tbody>\n",
       "    <tr>\n",
       "      <th>0</th>\n",
       "      <td>0.381155</td>\n",
       "      <td>-1.644815</td>\n",
       "      <td>1</td>\n",
       "      <td>1</td>\n",
       "    </tr>\n",
       "    <tr>\n",
       "      <th>1</th>\n",
       "      <td>-0.583904</td>\n",
       "      <td>-8.784059</td>\n",
       "      <td>0</td>\n",
       "      <td>0</td>\n",
       "    </tr>\n",
       "    <tr>\n",
       "      <th>2</th>\n",
       "      <td>1.830865</td>\n",
       "      <td>-1.425235</td>\n",
       "      <td>1</td>\n",
       "      <td>1</td>\n",
       "    </tr>\n",
       "    <tr>\n",
       "      <th>3</th>\n",
       "      <td>1.813135</td>\n",
       "      <td>-1.924671</td>\n",
       "      <td>1</td>\n",
       "      <td>1</td>\n",
       "    </tr>\n",
       "    <tr>\n",
       "      <th>4</th>\n",
       "      <td>-1.655771</td>\n",
       "      <td>-9.555946</td>\n",
       "      <td>0</td>\n",
       "      <td>0</td>\n",
       "    </tr>\n",
       "  </tbody>\n",
       "</table>\n",
       "</div>"
      ],
      "text/plain": [
       "   gmm_comp1  gmm_comp2  target  label_gmm\n",
       "0   0.381155  -1.644815       1          1\n",
       "1  -0.583904  -8.784059       0          0\n",
       "2   1.830865  -1.425235       1          1\n",
       "3   1.813135  -1.924671       1          1\n",
       "4  -1.655771  -9.555946       0          0"
      ]
     },
     "execution_count": 12,
     "metadata": {},
     "output_type": "execute_result"
    }
   ],
   "source": [
    "import pandas as pd\n",
    "gmm_columns = ['gmm_comp1', 'gmm_comp2']\n",
    "X_gmm_df = pd.DataFrame(X, columns=gmm_columns)\n",
    "X_gmm_df['target'] = y\n",
    "X_gmm_df['label_gmm'] = label_gmm\n",
    "X_gmm_df.head(5)"
   ]
  },
  {
   "cell_type": "markdown",
   "id": "2d9b4c03",
   "metadata": {},
   "source": [
    "### 타깃 클래스 종류 확인"
   ]
  },
  {
   "cell_type": "code",
   "execution_count": 13,
   "id": "b7895f92",
   "metadata": {},
   "outputs": [
    {
     "name": "stdout",
     "output_type": "stream",
     "text": [
      "{0, 1}\n",
      "{0, 1}\n"
     ]
    }
   ],
   "source": [
    "print(set(X_gmm_df['target']))\n",
    "print(set(X_gmm_df['label_gmm']))"
   ]
  },
  {
   "cell_type": "markdown",
   "id": "c56bb743",
   "metadata": {},
   "source": [
    "### 가우시안 혼합 모형을 이용한 데이터 플롯"
   ]
  },
  {
   "cell_type": "code",
   "execution_count": 14,
   "id": "4ee6d90e",
   "metadata": {},
   "outputs": [
    {
     "data": {
      "image/png": "[encoded data removed]",
      "text/plain": [
       "<Figure size 432x288 with 1 Axes>"
      ]
     },
     "metadata": {
      "needs_background": "light"
     },
     "output_type": "display_data"
    }
   ],
   "source": [
    "df = X_gmm_df\n",
    "markers = ['o', 'x']\n",
    "\n",
    "for i, mark in enumerate(markers):\n",
    "    df_i = df[df['label_gmm']==i]\n",
    "    target_i = i\n",
    "    X1 = df_i['gmm_comp1']\n",
    "    X2 = df_i['gmm_comp2']\n",
    "    plt.scatter(X1, X2,\n",
    "               marker=mark,\n",
    "               label=target_i)\n",
    "\n",
    "plt.xlabel('gmm_component1')\n",
    "plt.ylabel('gmm_component2')\n",
    "plt.show()"
   ]
  },
  {
   "cell_type": "markdown",
   "id": "792cd7d8",
   "metadata": {},
   "source": [
    "### 실제 타깃 플롯"
   ]
  },
  {
   "cell_type": "code",
   "execution_count": 16,
   "id": "719b60e5",
   "metadata": {},
   "outputs": [
    {
     "data": {
      "image/png": "[encoded data removed]",
      "text/plain": [
       "<Figure size 432x288 with 1 Axes>"
      ]
     },
     "metadata": {
      "needs_background": "light"
     },
     "output_type": "display_data"
    }
   ],
   "source": [
    "df = X_gmm_df\n",
    "markers = ['o', 'x']\n",
    "\n",
    "for i, mark in enumerate(markers):\n",
    "    df_i = df[df['target']==i]\n",
    "    target_i = i\n",
    "    X1 = df_i['gmm_comp1']\n",
    "    X2 = df_i['gmm_comp2']\n",
    "    plt.scatter(X1, X2,\n",
    "               marker=mark,\n",
    "               label=target_i)\n",
    "\n",
    "plt.xlabel('gmm_component1')\n",
    "plt.ylabel('gmm_component2')\n",
    "plt.legend()\n",
    "plt.show()"
   ]
  },
  {
   "cell_type": "markdown",
   "id": "aea6ba8a",
   "metadata": {},
   "source": [
    "### 모형 평가"
   ]
  },
  {
   "cell_type": "code",
   "execution_count": 17,
   "id": "bd9e5b25",
   "metadata": {},
   "outputs": [
    {
     "name": "stdout",
     "output_type": "stream",
     "text": [
      "0.7842908753561848\n"
     ]
    }
   ],
   "source": [
    "from sklearn.metrics import silhouette_score\n",
    "sil_score = silhouette_score(X, label_gmm)\n",
    "print(sil_score)"
   ]
  }
 ],
 "metadata": {
  "kernelspec": {
   "display_name": "Python 3 (ipykernel)",
   "language": "python",
   "name": "python3"
  },
  "language_info": {
   "codemirror_mode": {
    "name": "ipython",
    "version": 3
   },
   "file_extension": ".py",
   "mimetype": "text/x-python",
   "name": "python",
   "nbconvert_exporter": "python",
   "pygments_lexer": "ipython3",
   "version": "3.7.6"
  },
  "varInspector": {
   "cols": {
    "lenName": 16,
    "lenType": 16,
    "lenVar": 40
   },
   "kernels_config": {
    "python": {
     "delete_cmd_postfix": "",
     "delete_cmd_prefix": "del ",
     "library": "var_list.py",
     "varRefreshCmd": "print(var_dic_list())"
    },
    "r": {
     "delete_cmd_postfix": ") ",
     "delete_cmd_prefix": "rm(",
     "library": "var_list.r",
     "varRefreshCmd": "cat(var_dic_list()) "
    }
   },
   "types_to_exclude": [
    "module",
    "function",
    "builtin_function_or_method",
    "instance",
    "_Feature"
   ],
   "window_display": false
  }
 },
 "nbformat": 4,
 "nbformat_minor": 5
}
