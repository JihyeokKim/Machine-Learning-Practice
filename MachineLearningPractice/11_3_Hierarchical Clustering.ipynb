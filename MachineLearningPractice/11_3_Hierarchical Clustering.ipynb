{
 "cells": [
  {
   "cell_type": "markdown",
   "id": "f7b4cbc6",
   "metadata": {},
   "source": [
    "# 계층 클러스터링\n",
    "* 데이터 간 계층을 기반으로 데이터 간 병합 또는 분할을 통해 해당 데이터 포인트가 속할 그룹 결정\n",
    "* 병합 계층 클러스터링(agglomerative hierarchical clustering)과 분할 계층 클러스터링(divisive hierarchical clustering)로 나뉨"
   ]
  },
  {
   "cell_type": "markdown",
   "id": "fa907466",
   "metadata": {},
   "source": [
    "## 병합 계층 클러스터링\n",
    "* 개별 데이터 포인트를 하나의 클러스터로 설정하고 시작하는 방법\n",
    "* 그 후 두 클러스터를 비교해 유사도가 높을 경우 하나로 합침\n",
    "* 다수의 클러스터로 시작하지만 결국엔 데이터 셋 전체가 하나의 클러스터로 묶이는 방법"
   ]
  },
  {
   "cell_type": "markdown",
   "id": "9514c076",
   "metadata": {},
   "source": [
    "## 분할 계층 클러스터링\n",
    "* 병합과는 반대로 전체 데이터 셋을 하나의 클러스터로 놓고 시작하는 방법\n",
    "* 그 후 클러스터 내부에서 가장 멀리 떨어진 데이터를 다른 클러스터로 분리하는 과정을 반복\n",
    "* 덴드로그램(dendrogram)을 통해 각 레벨에서 어떻게 분리되는지 시각화 할 수 있다는 장점"
   ]
  },
  {
   "cell_type": "markdown",
   "id": "723632dd",
   "metadata": {},
   "source": [
    "### 단일 연결 (병합 계층 클러스터링)\n",
    "* 가장 가까운 거리에 있는 데이터를 이용한 연결 방법\n",
    "* 클러스터 쌍에서 가장 비슷한 샘플간 거리를 계산한 후 가장 작은 두 클러스터를 합침\n",
    "\n",
    "### 완전 연결\n",
    "* 가장 먼 거리에 있는 데이터를 이용한 연결 방법\n",
    "* 클러스터 간 가장 비슷하지 않은 샘플을 비교하여 가장 작은 두 클러스터를 합침\n",
    "\n",
    "### 평균 연결\n",
    "* 거리의 평균 값을 이용하여 합침"
   ]
  },
  {
   "cell_type": "markdown",
   "id": "ded2daad",
   "metadata": {},
   "source": [
    "## Ward's 계층 클러스터링\n",
    "- 클러스터 k 집단 내에서의 오차 제곱합을 최소화"
   ]
  },
  {
   "cell_type": "markdown",
   "id": "b1b262c4",
   "metadata": {},
   "source": [
    "# 계층 클러스터링 실습"
   ]
  },
  {
   "cell_type": "markdown",
   "id": "74536ae4",
   "metadata": {},
   "source": [
    "### 데이터 생성"
   ]
  },
  {
   "cell_type": "code",
   "execution_count": 7,
   "id": "9a41d6f1",
   "metadata": {},
   "outputs": [],
   "source": [
    "from sklearn.datasets import make_blobs\n",
    "X, y = make_blobs(n_samples=10,\n",
    "                 n_features=2,\n",
    "                 random_state=0)"
   ]
  },
  {
   "cell_type": "markdown",
   "id": "24165046",
   "metadata": {},
   "source": [
    "### 생성된 데이터 차원 확인"
   ]
  },
  {
   "cell_type": "code",
   "execution_count": 8,
   "id": "a317bade",
   "metadata": {},
   "outputs": [
    {
     "name": "stdout",
     "output_type": "stream",
     "text": [
      "(10, 2)\n",
      "(10,)\n"
     ]
    }
   ],
   "source": [
    "print(X.shape)\n",
    "print(y.shape)"
   ]
  },
  {
   "cell_type": "markdown",
   "id": "c1a2395a",
   "metadata": {},
   "source": [
    "### 병합 계층 클러스터링"
   ]
  },
  {
   "cell_type": "code",
   "execution_count": 10,
   "id": "590e1bbb",
   "metadata": {},
   "outputs": [
    {
     "name": "stdout",
     "output_type": "stream",
     "text": [
      "[8 9 6 4 5 2 7 3 1 0]\n"
     ]
    }
   ],
   "source": [
    "from sklearn.cluster import AgglomerativeClustering\n",
    "aggc = AgglomerativeClustering(n_clusters=None,               # 일단 각 데이터 포인트가 하나의 클러스터를 구성하는 단계를 보기 위해\n",
    "                              distance_threshold=0,            # 위 설정을 위해 필요한 설정\n",
    "                              linkage='complete')              # 연결 방법: 완전 연결\n",
    "label_aggc = aggc.fit_predict(X)\n",
    "print(label_aggc)"
   ]
  },
  {
   "cell_type": "markdown",
   "id": "70bb4cd1",
   "metadata": {},
   "source": [
    "### 클러스터 2개로 병합"
   ]
  },
  {
   "cell_type": "code",
   "execution_count": 12,
   "id": "59d20136",
   "metadata": {},
   "outputs": [
    {
     "name": "stdout",
     "output_type": "stream",
     "text": [
      "[0 0 0 0 0 0 1 0 0 0]\n"
     ]
    }
   ],
   "source": [
    "aggc2 = AgglomerativeClustering(n_clusters=2,\n",
    "                               linkage='complete')\n",
    "label_aggc2 = aggc2.fit_predict(X)\n",
    "print(label_aggc2)                                       # 7번째 데이터 포인트는 클러스터 1, 나머지는 0"
   ]
  },
  {
   "cell_type": "markdown",
   "id": "8e344da7",
   "metadata": {},
   "source": [
    "### 클러스터 3개로 병합"
   ]
  },
  {
   "cell_type": "code",
   "execution_count": 14,
   "id": "bb67aa15",
   "metadata": {},
   "outputs": [
    {
     "name": "stdout",
     "output_type": "stream",
     "text": [
      "[0 0 2 0 0 0 1 2 2 0]\n"
     ]
    }
   ],
   "source": [
    "aggc3 = AgglomerativeClustering(n_clusters=3,\n",
    "                               linkage='complete')\n",
    "label_aggc3 = aggc3.fit_predict(X)\n",
    "print(label_aggc3)"
   ]
  },
  {
   "cell_type": "markdown",
   "id": "c57a302b",
   "metadata": {},
   "source": [
    "### 덴드로그램 시각화"
   ]
  },
  {
   "cell_type": "code",
   "execution_count": 16,
   "id": "2ff0b7c6",
   "metadata": {},
   "outputs": [
    {
     "data": {
      "image/png": "[encoded data removed]",
      "text/plain": [
       "<Figure size 432x288 with 1 Axes>"
      ]
     },
     "metadata": {
      "needs_background": "light"
     },
     "output_type": "display_data"
    }
   ],
   "source": [
    "from scipy.cluster.hierarchy import dendrogram\n",
    "from scipy.cluster.hierarchy import linkage\n",
    "import matplotlib.pyplot as plt\n",
    "\n",
    "linked = linkage(X, 'complete')\n",
    "labels = label_aggc\n",
    "dendrogram(linked,\n",
    "          orientation='top',\n",
    "          labels=labels,\n",
    "          show_leaf_counts=True)\n",
    "plt.show()"
   ]
  }
 ],
 "metadata": {
  "kernelspec": {
   "display_name": "Python 3 (ipykernel)",
   "language": "python",
   "name": "python3"
  },
  "language_info": {
   "codemirror_mode": {
    "name": "ipython",
    "version": 3
   },
   "file_extension": ".py",
   "mimetype": "text/x-python",
   "name": "python",
   "nbconvert_exporter": "python",
   "pygments_lexer": "ipython3",
   "version": "3.7.6"
  },
  "varInspector": {
   "cols": {
    "lenName": 16,
    "lenType": 16,
    "lenVar": 40
   },
   "kernels_config": {
    "python": {
     "delete_cmd_postfix": "",
     "delete_cmd_prefix": "del ",
     "library": "var_list.py",
     "varRefreshCmd": "print(var_dic_list())"
    },
    "r": {
     "delete_cmd_postfix": ") ",
     "delete_cmd_prefix": "rm(",
     "library": "var_list.r",
     "varRefreshCmd": "cat(var_dic_list()) "
    }
   },
   "types_to_exclude": [
    "module",
    "function",
    "builtin_function_or_method",
    "instance",
    "_Feature"
   ],
   "window_display": false
  }
 },
 "nbformat": 4,
 "nbformat_minor": 5
}
