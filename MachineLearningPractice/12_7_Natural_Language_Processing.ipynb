{
 "cells": [
  {
   "cell_type": "markdown",
   "id": "915c0a34",
   "metadata": {},
   "source": [
    "# 1. 단어의 토큰화"
   ]
  },
  {
   "cell_type": "code",
   "execution_count": 2,
   "id": "7d83a021",
   "metadata": {},
   "outputs": [
    {
     "name": "stdout",
     "output_type": "stream",
     "text": [
      "{'많은': 1, '것을': 2, '바꾸고': 3, '싶다면': 4, '받아들여라': 5}\n",
      "OrderedDict([('많은', 2), ('것을', 2), ('바꾸고', 1), ('싶다면', 1), ('받아들여라', 1)])\n"
     ]
    }
   ],
   "source": [
    "from tensorflow.keras.preprocessing.text import Tokenizer\n",
    "paper = ['많은 것을 바꾸고 싶다면 많은 것을 받아들여라.']\n",
    "tknz = Tokenizer()\n",
    "tknz.fit_on_texts(paper)      # 문장을 인자로 넣고 적합\n",
    "print(tknz.word_index)        # 토근 별 인덱스확인\n",
    "print(tknz.word_counts)       # 토근 별 언급 횟수 확인"
   ]
  },
  {
   "cell_type": "markdown",
   "id": "cb1bbc9d",
   "metadata": {},
   "source": [
    "# 2. 단어를 벡터로 변환"
   ]
  },
  {
   "cell_type": "code",
   "execution_count": 3,
   "id": "b84dfab9",
   "metadata": {},
   "outputs": [
    {
     "name": "stdout",
     "output_type": "stream",
     "text": [
      "[[1, 2, 3, 4, 1, 2, 5]]\n",
      "6\n",
      "[[[0. 1. 0. 0. 0. 0.]\n",
      "  [0. 0. 1. 0. 0. 0.]\n",
      "  [0. 0. 0. 1. 0. 0.]\n",
      "  [0. 0. 0. 0. 1. 0.]\n",
      "  [0. 1. 0. 0. 0. 0.]\n",
      "  [0. 0. 1. 0. 0. 0.]\n",
      "  [0. 0. 0. 0. 0. 1.]]]\n"
     ]
    }
   ],
   "source": [
    "from tensorflow.keras.utils import to_categorical\n",
    "from tensorflow.keras.preprocessing.text import Tokenizer\n",
    "paper = ['많은 것을 바꾸고 싶다면 많은 것을 받아들여라.']\n",
    "tknz = Tokenizer()\n",
    "tknz.fit_on_texts(paper)      # 문장을 인자로 넣고 적합\n",
    "\n",
    "idx_paper = tknz.texts_to_sequences(paper)\n",
    "print(idx_paper)\n",
    "n = len(tknz.word_index) + 1\n",
    "print(n)\n",
    "idx_onehot = to_categorical(idx_paper, num_classes=n)\n",
    "print(idx_onehot)"
   ]
  },
  {
   "cell_type": "markdown",
   "id": "acec9ea5",
   "metadata": {},
   "source": [
    "# 3. 단어 임베딩"
   ]
  },
  {
   "cell_type": "code",
   "execution_count": 4,
   "id": "45a14e47",
   "metadata": {},
   "outputs": [
    {
     "name": "stdout",
     "output_type": "stream",
     "text": [
      "[[[-0.02841144  0.01940265 -0.02723807]\n",
      "  [-0.02251455  0.01084784 -0.02967387]\n",
      "  [ 0.00619539 -0.0328768  -0.04546695]\n",
      "  [-0.00840687 -0.03625091  0.00746967]\n",
      "  [-0.02841144  0.01940265 -0.02723807]\n",
      "  [-0.02251455  0.01084784 -0.02967387]\n",
      "  [-0.00701772  0.01069533 -0.04733161]]]\n"
     ]
    }
   ],
   "source": [
    "from tensorflow.keras.models import Sequential\n",
    "from tensorflow.keras.layers import Embedding\n",
    "\n",
    "model = Sequential()\n",
    "model.add(Embedding(input_dim=n, output_dim=3))\n",
    "model.compile(optimizer='rmsprop', loss='mse')\n",
    "embedding = model.predict(idx_paper)\n",
    "print(embedding)"
   ]
  },
  {
   "cell_type": "markdown",
   "id": "254076b7",
   "metadata": {},
   "source": [
    "# 4. 자연어 처리 실습"
   ]
  },
  {
   "cell_type": "markdown",
   "id": "d7eaad3b",
   "metadata": {},
   "source": [
    "### 랜덤 시드 설정"
   ]
  },
  {
   "cell_type": "code",
   "execution_count": 1,
   "id": "763a8821",
   "metadata": {},
   "outputs": [],
   "source": [
    "import numpy as np\n",
    "import tensorflow as tf\n",
    "np.random.seed(0)\n",
    "tf.random.set_seed(0)"
   ]
  },
  {
   "cell_type": "markdown",
   "id": "07a88472",
   "metadata": {},
   "source": [
    "### 모형 변수 설정"
   ]
  },
  {
   "cell_type": "code",
   "execution_count": 2,
   "id": "8ea37db3",
   "metadata": {},
   "outputs": [],
   "source": [
    "n_batch = 64\n",
    "epochs = 100\n",
    "latent_dim = 256       # output 크기\n",
    "n_max_sample = 10000   # 최대 데이터 샘플 크기\n",
    "data_path = './data/eng-fra/fra.txt'"
   ]
  },
  {
   "cell_type": "markdown",
   "id": "4a051aed",
   "metadata": {},
   "source": [
    "### 전체 데이터 불러오기"
   ]
  },
  {
   "cell_type": "code",
   "execution_count": 3,
   "id": "b8de3e34",
   "metadata": {},
   "outputs": [],
   "source": [
    "with open(data_path, 'r', encoding='utf-8') as f:\n",
    "    lines = f.read().split('\\n')"
   ]
  },
  {
   "cell_type": "markdown",
   "id": "39a4ef01",
   "metadata": {},
   "source": [
    "### 데이터 확인"
   ]
  },
  {
   "cell_type": "code",
   "execution_count": 4,
   "id": "d020973d",
   "metadata": {},
   "outputs": [
    {
     "data": {
      "text/plain": [
       "['Go.\\tVa !\\tCC-BY 2.0 (France) Attribution: tatoeba.org #2877272 (CM) & #1158250 (Wittydev)',\n",
       " 'Hi.\\tSalut !\\tCC-BY 2.0 (France) Attribution: tatoeba.org #538123 (CM) & #509819 (Aiji)',\n",
       " 'Hi.\\tSalut.\\tCC-BY 2.0 (France) Attribution: tatoeba.org #538123 (CM) & #4320462 (gillux)',\n",
       " 'Run!\\tCours\\u202f!\\tCC-BY 2.0 (France) Attribution: tatoeba.org #906328 (papabear) & #906331 (sacredceltic)',\n",
       " 'Run!\\tCourez\\u202f!\\tCC-BY 2.0 (France) Attribution: tatoeba.org #906328 (papabear) & #906332 (sacredceltic)',\n",
       " 'Who?\\tQui ?\\tCC-BY 2.0 (France) Attribution: tatoeba.org #2083030 (CK) & #4366796 (gillux)',\n",
       " 'Wow!\\tÇa alors\\u202f!\\tCC-BY 2.0 (France) Attribution: tatoeba.org #52027 (Zifre) & #374631 (zmoo)',\n",
       " 'Fire!\\tAu feu !\\tCC-BY 2.0 (France) Attribution: tatoeba.org #1829639 (Spamster) & #4627939 (sacredceltic)',\n",
       " \"Help!\\tÀ l'aide\\u202f!\\tCC-BY 2.0 (France) Attribution: tatoeba.org #435084 (lukaszpp) & #128430 (sysko)\",\n",
       " 'Jump.\\tSaute.\\tCC-BY 2.0 (France) Attribution: tatoeba.org #631038 (Shishir) & #2416938 (Micsmithel)']"
      ]
     },
     "execution_count": 4,
     "metadata": {},
     "output_type": "execute_result"
    }
   ],
   "source": [
    "lines[:10]"
   ]
  },
  {
   "cell_type": "markdown",
   "id": "f4b55861",
   "metadata": {},
   "source": [
    "### 인풋, 타깃 텍스트 데이터 정리"
   ]
  },
  {
   "cell_type": "code",
   "execution_count": 5,
   "id": "d3e3c2f0",
   "metadata": {},
   "outputs": [],
   "source": [
    "x_txts = []\n",
    "y_txts = []\n",
    "x_chars_uni = set()\n",
    "y_chars_uni = set()\n",
    "n_sample = min(n_max_sample, len(lines) - 1)\n",
    "\n",
    "for line in lines[:n_sample]:\n",
    "    x_txt, y_txt, _ = line.split('\\t')\n",
    "    y_txt = '\\t' + y_txt + '\\n'\n",
    "    x_txts.append(x_txt)\n",
    "    y_txts.append(y_txt)\n",
    "    \n",
    "    for char in x_txt:\n",
    "        if char not in x_chars_uni:\n",
    "            x_chars_uni.add(char)\n",
    "            \n",
    "    for char in y_txt:\n",
    "        if char not in y_chars_uni:\n",
    "            y_chars_uni.add(char)"
   ]
  },
  {
   "cell_type": "code",
   "execution_count": 6,
   "id": "33c06536",
   "metadata": {},
   "outputs": [
    {
     "name": "stdout",
     "output_type": "stream",
     "text": [
      "10000\n"
     ]
    }
   ],
   "source": [
    "print(n_sample)"
   ]
  },
  {
   "cell_type": "markdown",
   "id": "be48aa29",
   "metadata": {},
   "source": [
    "### 인풋 데이터, 타깃 데이터 및 토큰 확인"
   ]
  },
  {
   "cell_type": "code",
   "execution_count": 7,
   "id": "96e88b8c",
   "metadata": {},
   "outputs": [
    {
     "name": "stdout",
     "output_type": "stream",
     "text": [
      "['Go.', 'Hi.', 'Hi.', 'Run!', 'Run!']\n",
      "['\\tVa !\\n', '\\tSalut !\\n', '\\tSalut.\\n']\n",
      "{'B', '!', 'P', 'O', 'l', 'J', '3', 'D', '1', '0', 'F', 'w', 'G', 'q', 'v', ':', 'C', 'i', '5', 'S', 'W', 'm', '$', 'k', '8', 'E', 'M', 'é', 'V', '-', 'L', 'a', 'H', 's', \"'\", 'p', '?', ' ', 'y', 'N', '%', '.', 'g', 'T', 'K', 'Q', 'b', 'c', '&', 'u', 'o', 'n', 'e', 'R', 'f', 'z', 'Y', 'A', 'U', '2', 'r', 'j', ',', 'h', 'x', 'd', 't', 'I', '7', '9', '6'}\n",
      "{'0', ':', '8', 'k', 's', 'p', 'g', 'T', 'Q', '\\n', 'u', 'n', 'e', 'U', 'ï', 'h', 'Ç', 'É', '9', 'œ', 'O', 'l', 'J', 'ë', 'D', '1', 'G', 'v', '$', 'M', 'a', '?', 'N', 'K', 'o', 'â', 'f', 'Y', 'è', 'r', 'x', 'd', 't', 'B', '(', 'À', 'û', 'F', 'q', 'i', '5', 'S', 'm', 'é', 'V', 'y', 'î', 'ô', 'A', '2', 'j', 'ù', 'I', '!', 'P', '’', '3', 'ç', ')', '»', 'ê', 'C', '\\u202f', 'E', '-', 'H', \"'\", ' ', '%', '.', '\\u2009', 'b', 'c', '&', 'Ê', 'z', 'R', '«', ',', '\\t', 'L', 'à'}\n"
     ]
    }
   ],
   "source": [
    "print(x_txts[:5])\n",
    "print(y_txts[:3])\n",
    "print(x_chars_uni)\n",
    "print(y_chars_uni)"
   ]
  },
  {
   "cell_type": "markdown",
   "id": "1573887f",
   "metadata": {},
   "source": [
    "### 토큰 단위 정리"
   ]
  },
  {
   "cell_type": "code",
   "execution_count": 8,
   "id": "266d5a0a",
   "metadata": {},
   "outputs": [],
   "source": [
    "x_chars_uni = sorted(list(x_chars_uni))\n",
    "y_chars_uni = sorted(list(y_chars_uni))\n",
    "n_encoder_tokens = len(x_chars_uni)\n",
    "n_decoder_tokens = len(y_chars_uni)\n",
    "\n",
    "max_encoder_seq_len = 0\n",
    "for txt in x_txts:\n",
    "    txt_len = len(txt)\n",
    "    max_encoder_seq_len = max(txt_len,\n",
    "                             max_encoder_seq_len)\n",
    "    \n",
    "max_decoder_seq_len = 0\n",
    "for txt in y_txts:\n",
    "    txt_len = len(txt)\n",
    "    max_decoder_seq_len = max(txt_len,\n",
    "                             max_decoder_seq_len)"
   ]
  },
  {
   "cell_type": "code",
   "execution_count": 9,
   "id": "87be13a5",
   "metadata": {},
   "outputs": [
    {
     "name": "stdout",
     "output_type": "stream",
     "text": [
      "유니크 인코더 토큰 글자 수:  71\n",
      "유니크 디코더 토큰 글자 수:  92\n",
      "인코더 문장 내 최대 문자 수:  15\n",
      "디코더 문장 내 최대 문자 수:  59\n"
     ]
    }
   ],
   "source": [
    "print(\"유니크 인코더 토큰 글자 수: \", n_encoder_tokens)\n",
    "print(\"유니크 디코더 토큰 글자 수: \", n_decoder_tokens)\n",
    "print(\"인코더 문장 내 최대 문자 수: \", max_encoder_seq_len)\n",
    "print(\"디코더 문장 내 최대 문자 수: \", max_decoder_seq_len)"
   ]
  },
  {
   "cell_type": "markdown",
   "id": "15f4dc0a",
   "metadata": {},
   "source": [
    "### 단어 토큰 별 인덱스"
   ]
  },
  {
   "cell_type": "code",
   "execution_count": 10,
   "id": "865d78b3",
   "metadata": {},
   "outputs": [],
   "source": [
    "x_token_idx = {}\n",
    "for idx, char in enumerate(x_chars_uni):\n",
    "    x_token_idx[char] = idx\n",
    "    \n",
    "y_token_idx = {}\n",
    "for idx, char in enumerate(y_chars_uni):\n",
    "    y_token_idx[char] = idx"
   ]
  },
  {
   "cell_type": "code",
   "execution_count": 11,
   "id": "60886491",
   "metadata": {},
   "outputs": [
    {
     "name": "stdout",
     "output_type": "stream",
     "text": [
      "{' ': 0, '!': 1, '$': 2, '%': 3, '&': 4, \"'\": 5, ',': 6, '-': 7, '.': 8, '0': 9, '1': 10, '2': 11, '3': 12, '5': 13, '6': 14, '7': 15, '8': 16, '9': 17, ':': 18, '?': 19, 'A': 20, 'B': 21, 'C': 22, 'D': 23, 'E': 24, 'F': 25, 'G': 26, 'H': 27, 'I': 28, 'J': 29, 'K': 30, 'L': 31, 'M': 32, 'N': 33, 'O': 34, 'P': 35, 'Q': 36, 'R': 37, 'S': 38, 'T': 39, 'U': 40, 'V': 41, 'W': 42, 'Y': 43, 'a': 44, 'b': 45, 'c': 46, 'd': 47, 'e': 48, 'f': 49, 'g': 50, 'h': 51, 'i': 52, 'j': 53, 'k': 54, 'l': 55, 'm': 56, 'n': 57, 'o': 58, 'p': 59, 'q': 60, 'r': 61, 's': 62, 't': 63, 'u': 64, 'v': 65, 'w': 66, 'x': 67, 'y': 68, 'z': 69, 'é': 70}\n",
      "{'\\t': 0, '\\n': 1, ' ': 2, '!': 3, '$': 4, '%': 5, '&': 6, \"'\": 7, '(': 8, ')': 9, ',': 10, '-': 11, '.': 12, '0': 13, '1': 14, '2': 15, '3': 16, '5': 17, '8': 18, '9': 19, ':': 20, '?': 21, 'A': 22, 'B': 23, 'C': 24, 'D': 25, 'E': 26, 'F': 27, 'G': 28, 'H': 29, 'I': 30, 'J': 31, 'K': 32, 'L': 33, 'M': 34, 'N': 35, 'O': 36, 'P': 37, 'Q': 38, 'R': 39, 'S': 40, 'T': 41, 'U': 42, 'V': 43, 'Y': 44, 'a': 45, 'b': 46, 'c': 47, 'd': 48, 'e': 49, 'f': 50, 'g': 51, 'h': 52, 'i': 53, 'j': 54, 'k': 55, 'l': 56, 'm': 57, 'n': 58, 'o': 59, 'p': 60, 'q': 61, 'r': 62, 's': 63, 't': 64, 'u': 65, 'v': 66, 'x': 67, 'y': 68, 'z': 69, '«': 70, '»': 71, 'À': 72, 'Ç': 73, 'É': 74, 'Ê': 75, 'à': 76, 'â': 77, 'ç': 78, 'è': 79, 'é': 80, 'ê': 81, 'ë': 82, 'î': 83, 'ï': 84, 'ô': 85, 'ù': 86, 'û': 87, 'œ': 88, '\\u2009': 89, '’': 90, '\\u202f': 91}\n"
     ]
    }
   ],
   "source": [
    "print(x_token_idx)\n",
    "print(y_token_idx)"
   ]
  },
  {
   "cell_type": "markdown",
   "id": "e6d79e31",
   "metadata": {},
   "source": [
    "### 데이터 영 행렬 만들기"
   ]
  },
  {
   "cell_type": "code",
   "execution_count": 12,
   "id": "a960c7e3",
   "metadata": {},
   "outputs": [],
   "source": [
    "encoder_x_data = np.zeros((len(x_txts),\n",
    "                          max_encoder_seq_len,\n",
    "                          n_encoder_tokens),\n",
    "                         dtype='float32')\n",
    "\n",
    "decoder_x_data = np.zeros((len(x_txts),\n",
    "                          max_decoder_seq_len,\n",
    "                          n_decoder_tokens),\n",
    "                         dtype='float32')\n",
    "\n",
    "decoder_y_data = np.zeros((len(x_txts),\n",
    "                          max_decoder_seq_len,\n",
    "                          n_decoder_tokens),\n",
    "                         dtype='float32')"
   ]
  },
  {
   "cell_type": "markdown",
   "id": "c31ca316",
   "metadata": {},
   "source": [
    "### 인풋 데이터 행렬"
   ]
  },
  {
   "cell_type": "code",
   "execution_count": 13,
   "id": "8a80ad46",
   "metadata": {},
   "outputs": [],
   "source": [
    "for i, x_txt in enumerate(x_txts):\n",
    "    for t, char in enumerate(x_txt):\n",
    "        encoder_x_data[i, t, x_token_idx[char]] = 1.\n",
    "    encoder_x_data[i, t + 1:, x_token_idx[' ']] = 1."
   ]
  },
  {
   "cell_type": "markdown",
   "id": "05766713",
   "metadata": {},
   "source": [
    "### 타깃 데이터 행렬"
   ]
  },
  {
   "cell_type": "code",
   "execution_count": 14,
   "id": "ad8b06ed",
   "metadata": {},
   "outputs": [],
   "source": [
    "for i, y_txt in enumerate(y_txts):\n",
    "    for t, char in enumerate(y_txt):\n",
    "        decoder_x_data[i, t, y_token_idx[char]] = 1.\n",
    "        if t > 0:\n",
    "            decoder_y_data[i, t - 1:, y_token_idx[char]] = 1.\n",
    "    decoder_x_data[i, t + 1:, y_token_idx[' ']] = 1.\n",
    "    decoder_y_data[i, t:, y_token_idx[' ']] = 1."
   ]
  },
  {
   "cell_type": "markdown",
   "id": "8286baaa",
   "metadata": {},
   "source": [
    "### 인코더 모형 생성"
   ]
  },
  {
   "cell_type": "code",
   "execution_count": 15,
   "id": "2965aacd",
   "metadata": {},
   "outputs": [],
   "source": [
    "from tensorflow.keras.models import Model\n",
    "from tensorflow.keras.layers import Embedding\n",
    "from tensorflow.keras.layers import Input\n",
    "from tensorflow.keras.layers import LSTM\n",
    "from tensorflow.keras.layers import Dense\n",
    "from tensorflow.keras.layers import TimeDistributed\n",
    "\n",
    "encoder_inputs = Input(shape=(None, n_encoder_tokens))\n",
    "encoder = LSTM(latent_dim, return_state=True)\n",
    "encoder_outs, state_h, state_c = encoder(encoder_inputs)\n",
    "encoder_states = [state_h, state_c]"
   ]
  },
  {
   "cell_type": "markdown",
   "id": "a168b4e5",
   "metadata": {},
   "source": [
    "### 디코더 모형 생성"
   ]
  },
  {
   "cell_type": "code",
   "execution_count": 16,
   "id": "f6934d86",
   "metadata": {},
   "outputs": [],
   "source": [
    "decoder_inputs = Input(shape=(None, n_decoder_tokens))\n",
    "decoder = LSTM(latent_dim,\n",
    "              return_sequences=True,\n",
    "              return_state=True)\n",
    "decoder_outs, _, _ = decoder(decoder_inputs,\n",
    "                            initial_state=encoder_states)\n",
    "decoder_dense = TimeDistributed(Dense(n_decoder_tokens,\n",
    "                                     activation='softmax'))\n",
    "decoder_outputs = decoder_dense(decoder_outs)"
   ]
  },
  {
   "cell_type": "markdown",
   "id": "c4ff6086",
   "metadata": {},
   "source": [
    "### 인코더-디코더"
   ]
  },
  {
   "cell_type": "code",
   "execution_count": 17,
   "id": "73874d68",
   "metadata": {},
   "outputs": [
    {
     "name": "stdout",
     "output_type": "stream",
     "text": [
      "Model: \"model\"\n",
      "__________________________________________________________________________________________________\n",
      " Layer (type)                   Output Shape         Param #     Connected to                     \n",
      "==================================================================================================\n",
      " input_1 (InputLayer)           [(None, None, 71)]   0           []                               \n",
      "                                                                                                  \n",
      " input_2 (InputLayer)           [(None, None, 92)]   0           []                               \n",
      "                                                                                                  \n",
      " lstm (LSTM)                    [(None, 256),        335872      ['input_1[0][0]']                \n",
      "                                 (None, 256),                                                     \n",
      "                                 (None, 256)]                                                     \n",
      "                                                                                                  \n",
      " lstm_1 (LSTM)                  [(None, None, 256),  357376      ['input_2[0][0]',                \n",
      "                                 (None, 256),                     'lstm[0][1]',                   \n",
      "                                 (None, 256)]                     'lstm[0][2]']                   \n",
      "                                                                                                  \n",
      " time_distributed (TimeDistribu  (None, None, 92)    23644       ['lstm_1[0][0]']                 \n",
      " ted)                                                                                             \n",
      "                                                                                                  \n",
      "==================================================================================================\n",
      "Total params: 716,892\n",
      "Trainable params: 716,892\n",
      "Non-trainable params: 0\n",
      "__________________________________________________________________________________________________\n"
     ]
    }
   ],
   "source": [
    "model = Model([encoder_inputs, decoder_inputs],\n",
    "             decoder_outputs)\n",
    "model.summary()"
   ]
  },
  {
   "cell_type": "markdown",
   "id": "1bbb0faa",
   "metadata": {},
   "source": [
    "### 모형 컴파일"
   ]
  },
  {
   "cell_type": "code",
   "execution_count": 18,
   "id": "097dee61",
   "metadata": {},
   "outputs": [],
   "source": [
    "model.compile(optimizer='rmsprop',\n",
    "             loss='categorical_crossentropy',\n",
    "             metrics=['accuracy'])"
   ]
  },
  {
   "cell_type": "markdown",
   "id": "cacd84cb",
   "metadata": {},
   "source": [
    "### 학습"
   ]
  },
  {
   "cell_type": "code",
   "execution_count": 1,
   "id": "d5c5760a",
   "metadata": {},
   "outputs": [
    {
     "ename": "NameError",
     "evalue": "name 'model' is not defined",
     "output_type": "error",
     "traceback": [
      "\u001b[1;31m---------------------------------------------------------------------------\u001b[0m",
      "\u001b[1;31mNameError\u001b[0m                                 Traceback (most recent call last)",
      "\u001b[1;32m~\\AppData\\Local\\Temp/ipykernel_16748/3335460532.py\u001b[0m in \u001b[0;36m<module>\u001b[1;34m\u001b[0m\n\u001b[1;32m----> 1\u001b[1;33m model.fit([encoder_x_data, decoder_x_data], decoder_y_data,\n\u001b[0m\u001b[0;32m      2\u001b[0m          \u001b[0mbatch_size\u001b[0m \u001b[1;33m=\u001b[0m \u001b[0mn_batch\u001b[0m\u001b[1;33m,\u001b[0m\u001b[1;33m\u001b[0m\u001b[1;33m\u001b[0m\u001b[0m\n\u001b[0;32m      3\u001b[0m          \u001b[0mepochs\u001b[0m\u001b[1;33m=\u001b[0m\u001b[0mepochs\u001b[0m\u001b[1;33m,\u001b[0m\u001b[1;33m\u001b[0m\u001b[1;33m\u001b[0m\u001b[0m\n\u001b[0;32m      4\u001b[0m          validation_split=0.2)\n",
      "\u001b[1;31mNameError\u001b[0m: name 'model' is not defined"
     ]
    }
   ],
   "source": [
    "model.fit([encoder_x_data, decoder_x_data], decoder_y_data,\n",
    "         batch_size = n_batch,\n",
    "         epochs=epochs,\n",
    "         validation_split=0.2)"
   ]
  },
  {
   "cell_type": "markdown",
   "id": "978f99b3",
   "metadata": {},
   "source": [
    "### 추론 모형 생성"
   ]
  },
  {
   "cell_type": "code",
   "execution_count": 40,
   "id": "4bb57a5d",
   "metadata": {},
   "outputs": [],
   "source": [
    "encoder_model = Model(encoder_inputs, encoder_states)\n",
    "decoder_state_input_h = Input(shape=(latent_dim,))\n",
    "decoder_state_input_c = Input(shape=(latent_dim,))\n",
    "decoder_states_inputs = [decoder_state_input_h,\n",
    "                        decoder_state_input_c]\n",
    "decoder_outputs, state_h, state_c = decoder(decoder_inputs,\n",
    "                                            initial_state=decoder_states_inputs)\n",
    "decoder_states = [state_h, state_c]\n",
    "decoder_outputs = decoder_dense(decoder_outputs)\n",
    "decoder_model = Model([decoder_inputs] + decoder_states_inputs,\n",
    "                      [decoder_outputs] + decoder_states)"
   ]
  },
  {
   "cell_type": "markdown",
   "id": "90dbdffa",
   "metadata": {},
   "source": [
    "### 토큰 리버스 인덱스"
   ]
  },
  {
   "cell_type": "code",
   "execution_count": 42,
   "id": "eb9be0a5",
   "metadata": {},
   "outputs": [],
   "source": [
    "reverse_x_char_idx = {}\n",
    "for char, idx in x_token_idx.items():\n",
    "    reverse_x_char_idx[idx] = char\n",
    "\n",
    "reverse_y_char_idx = {}\n",
    "for char, idx in y_token_idx.items():\n",
    "    reverse_y_char_idx[idx] = char"
   ]
  },
  {
   "cell_type": "code",
   "execution_count": 43,
   "id": "247ccf61",
   "metadata": {},
   "outputs": [
    {
     "name": "stdout",
     "output_type": "stream",
     "text": [
      "{0: ' ', 1: '!', 2: '$', 3: '%', 4: '&', 5: \"'\", 6: ',', 7: '-', 8: '.', 9: '0', 10: '1', 11: '2', 12: '3', 13: '5', 14: '6', 15: '7', 16: '8', 17: '9', 18: ':', 19: '?', 20: 'A', 21: 'B', 22: 'C', 23: 'D', 24: 'E', 25: 'F', 26: 'G', 27: 'H', 28: 'I', 29: 'J', 30: 'K', 31: 'L', 32: 'M', 33: 'N', 34: 'O', 35: 'P', 36: 'Q', 37: 'R', 38: 'S', 39: 'T', 40: 'U', 41: 'V', 42: 'W', 43: 'Y', 44: 'a', 45: 'b', 46: 'c', 47: 'd', 48: 'e', 49: 'f', 50: 'g', 51: 'h', 52: 'i', 53: 'j', 54: 'k', 55: 'l', 56: 'm', 57: 'n', 58: 'o', 59: 'p', 60: 'q', 61: 'r', 62: 's', 63: 't', 64: 'u', 65: 'v', 66: 'w', 67: 'x', 68: 'y', 69: 'z', 70: 'é'}\n",
      "{0: '\\t', 1: '\\n', 2: ' ', 3: '!', 4: '$', 5: '%', 6: '&', 7: \"'\", 8: '(', 9: ')', 10: ',', 11: '-', 12: '.', 13: '0', 14: '1', 15: '2', 16: '3', 17: '5', 18: '8', 19: '9', 20: ':', 21: '?', 22: 'A', 23: 'B', 24: 'C', 25: 'D', 26: 'E', 27: 'F', 28: 'G', 29: 'H', 30: 'I', 31: 'J', 32: 'K', 33: 'L', 34: 'M', 35: 'N', 36: 'O', 37: 'P', 38: 'Q', 39: 'R', 40: 'S', 41: 'T', 42: 'U', 43: 'V', 44: 'Y', 45: 'a', 46: 'b', 47: 'c', 48: 'd', 49: 'e', 50: 'f', 51: 'g', 52: 'h', 53: 'i', 54: 'j', 55: 'k', 56: 'l', 57: 'm', 58: 'n', 59: 'o', 60: 'p', 61: 'q', 62: 'r', 63: 's', 64: 't', 65: 'u', 66: 'v', 67: 'x', 68: 'y', 69: 'z', 70: '«', 71: '»', 72: 'À', 73: 'Ç', 74: 'É', 75: 'Ê', 76: 'à', 77: 'â', 78: 'ç', 79: 'è', 80: 'é', 81: 'ê', 82: 'ë', 83: 'î', 84: 'ï', 85: 'ô', 86: 'ù', 87: 'û', 88: 'œ', 89: '\\u2009', 90: '’', 91: '\\u202f'}\n"
     ]
    }
   ],
   "source": [
    "print(reverse_x_char_idx)\n",
    "print(reverse_y_char_idx)"
   ]
  },
  {
   "cell_type": "code",
   "execution_count": null,
   "id": "e12e6051",
   "metadata": {},
   "outputs": [],
   "source": []
  }
 ],
 "metadata": {
  "kernelspec": {
   "display_name": "Python 3 (ipykernel)",
   "language": "python",
   "name": "python3"
  },
  "language_info": {
   "codemirror_mode": {
    "name": "ipython",
    "version": 3
   },
   "file_extension": ".py",
   "mimetype": "text/x-python",
   "name": "python",
   "nbconvert_exporter": "python",
   "pygments_lexer": "ipython3",
   "version": "3.7.6"
  },
  "varInspector": {
   "cols": {
    "lenName": 16,
    "lenType": 16,
    "lenVar": 40
   },
   "kernels_config": {
    "python": {
     "delete_cmd_postfix": "",
     "delete_cmd_prefix": "del ",
     "library": "var_list.py",
     "varRefreshCmd": "print(var_dic_list())"
    },
    "r": {
     "delete_cmd_postfix": ") ",
     "delete_cmd_prefix": "rm(",
     "library": "var_list.r",
     "varRefreshCmd": "cat(var_dic_list()) "
    }
   },
   "types_to_exclude": [
    "module",
    "function",
    "builtin_function_or_method",
    "instance",
    "_Feature"
   ],
   "window_display": false
  }
 },
 "nbformat": 4,
 "nbformat_minor": 5
}
