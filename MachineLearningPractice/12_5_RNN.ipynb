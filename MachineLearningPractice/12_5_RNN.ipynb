{
 "cells": [
  {
   "cell_type": "markdown",
   "id": "02b5f25b",
   "metadata": {},
   "source": [
    "# 순환 신경망 실습"
   ]
  },
  {
   "cell_type": "markdown",
   "id": "28a91bed",
   "metadata": {},
   "source": [
    "### 랜덤 시드 설정"
   ]
  },
  {
   "cell_type": "code",
   "execution_count": 1,
   "id": "5deadf36",
   "metadata": {},
   "outputs": [],
   "source": [
    "import numpy as np\n",
    "import tensorflow as tf\n",
    "np.random.seed(0)\n",
    "tf.random.set_seed(0)"
   ]
  },
  {
   "cell_type": "markdown",
   "id": "98c99ac7",
   "metadata": {},
   "source": [
    "### 데이터 불러오기"
   ]
  },
  {
   "cell_type": "code",
   "execution_count": 5,
   "id": "7ea10260",
   "metadata": {},
   "outputs": [],
   "source": [
    "from tensorflow.keras.datasets import imdb\n",
    "(X_tn0, y_tn0), (X_te0, y_test) = imdb.load_data(num_words=2000)"
   ]
  },
  {
   "cell_type": "markdown",
   "id": "c509e6f7",
   "metadata": {},
   "source": [
    "### 오리지널 데이터 차원 확인"
   ]
  },
  {
   "cell_type": "code",
   "execution_count": 6,
   "id": "ba04f96c",
   "metadata": {},
   "outputs": [
    {
     "name": "stdout",
     "output_type": "stream",
     "text": [
      "(25000,)\n",
      "(25000,)\n",
      "(25000,)\n",
      "(25000,)\n"
     ]
    }
   ],
   "source": [
    "print(X_tn0.shape)\n",
    "print(y_tn0.shape)\n",
    "print(X_te0.shape)\n",
    "print(y_test.shape)"
   ]
  },
  {
   "cell_type": "markdown",
   "id": "f071bef0",
   "metadata": {},
   "source": [
    "### 트레이닝/밸리데이션 셋 분리"
   ]
  },
  {
   "cell_type": "code",
   "execution_count": 7,
   "id": "0991c571",
   "metadata": {},
   "outputs": [
    {
     "name": "stdout",
     "output_type": "stream",
     "text": [
      "(20000,)\n",
      "(20000,)\n",
      "(5000,)\n",
      "(5000,)\n"
     ]
    }
   ],
   "source": [
    "X_train = X_tn0[0:20000]\n",
    "print(X_train.shape)\n",
    "\n",
    "y_train = y_tn0[0:20000]\n",
    "print(y_train.shape)\n",
    "\n",
    "X_valid = X_tn0[20000:25000]\n",
    "print(X_valid.shape)\n",
    "\n",
    "y_valid = y_tn0[20000:25000]\n",
    "print(y_valid.shape)"
   ]
  },
  {
   "cell_type": "markdown",
   "id": "62268dea",
   "metadata": {},
   "source": [
    "### 피처 데이터 형태 확인"
   ]
  },
  {
   "cell_type": "code",
   "execution_count": 8,
   "id": "e140d00e",
   "metadata": {},
   "outputs": [
    {
     "name": "stdout",
     "output_type": "stream",
     "text": [
      "[1, 14, 22, 16, 43, 530, 973, 1622, 1385, 65, 458, 2, 66, 2, 4, 173, 36, 256, 5, 25, 100, 43, 838, 112, 50, 670, 2, 9, 35, 480, 284, 5, 150, 4, 172, 112, 167, 2, 336, 385, 39, 4, 172, 2, 1111, 17, 546, 38, 13, 447, 4, 192, 50, 16, 6, 147, 2, 19, 14, 22, 4, 1920, 2, 469, 4, 22, 71, 87, 12, 16, 43, 530, 38, 76, 15, 13, 1247, 4, 22, 17, 515, 17, 12, 16, 626, 18, 2, 5, 62, 386, 12, 8, 316, 8, 106, 5, 4, 2, 2, 16, 480, 66, 2, 33, 4, 130, 12, 16, 38, 619, 5, 25, 124, 51, 36, 135, 48, 25, 1415, 33, 6, 22, 12, 215, 28, 77, 52, 5, 14, 407, 16, 82, 2, 8, 4, 107, 117, 2, 15, 256, 4, 2, 7, 2, 5, 723, 36, 71, 43, 530, 476, 26, 400, 317, 46, 7, 4, 2, 1029, 13, 104, 88, 4, 381, 15, 297, 98, 32, 2, 56, 26, 141, 6, 194, 2, 18, 4, 226, 22, 21, 134, 476, 26, 480, 5, 144, 30, 2, 18, 51, 36, 28, 224, 92, 25, 104, 4, 226, 65, 16, 38, 1334, 88, 12, 16, 283, 5, 16, 2, 113, 103, 32, 15, 16, 2, 19, 178, 32]\n"
     ]
    }
   ],
   "source": [
    "print(X_train[0])       # 이미 숫자로 매핑됨"
   ]
  },
  {
   "cell_type": "markdown",
   "id": "65b776b1",
   "metadata": {},
   "source": [
    "### 개별 피처 크기 확인"
   ]
  },
  {
   "cell_type": "code",
   "execution_count": 9,
   "id": "8fd3a5e2",
   "metadata": {},
   "outputs": [
    {
     "name": "stdout",
     "output_type": "stream",
     "text": [
      "218\n",
      "189\n"
     ]
    }
   ],
   "source": [
    "print(len(X_train[0]))\n",
    "print(len(X_train[1]))"
   ]
  },
  {
   "cell_type": "markdown",
   "id": "7e26198c",
   "metadata": {},
   "source": [
    "### 타깃 클래스 확인"
   ]
  },
  {
   "cell_type": "code",
   "execution_count": 10,
   "id": "afba4b30",
   "metadata": {},
   "outputs": [
    {
     "name": "stdout",
     "output_type": "stream",
     "text": [
      "{0, 1}\n",
      "2\n"
     ]
    }
   ],
   "source": [
    "print(set(y_test))\n",
    "print(len(set(y_test)))"
   ]
  },
  {
   "cell_type": "markdown",
   "id": "ebe95ab2",
   "metadata": {},
   "source": [
    "### 피처 데이터 변형"
   ]
  },
  {
   "cell_type": "code",
   "execution_count": 11,
   "id": "8df3188f",
   "metadata": {},
   "outputs": [
    {
     "name": "stdout",
     "output_type": "stream",
     "text": [
      "(20000, 100)\n",
      "(5000, 100)\n",
      "(25000, 100)\n"
     ]
    }
   ],
   "source": [
    "from tensorflow.keras.preprocessing import sequence\n",
    "X_train = sequence.pad_sequences(X_train, maxlen=100)\n",
    "print(X_train.shape)\n",
    "X_valid = sequence.pad_sequences(X_valid, maxlen=100)\n",
    "print(X_valid.shape)\n",
    "X_test = sequence.pad_sequences(X_te0, maxlen=100)\n",
    "print(X_test.shape)"
   ]
  },
  {
   "cell_type": "markdown",
   "id": "15d62d64",
   "metadata": {},
   "source": [
    "### LSTM 모형 생성"
   ]
  },
  {
   "cell_type": "code",
   "execution_count": 12,
   "id": "53842a75",
   "metadata": {},
   "outputs": [
    {
     "name": "stdout",
     "output_type": "stream",
     "text": [
      "Model: \"sequential\"\n",
      "_________________________________________________________________\n",
      " Layer (type)                Output Shape              Param #   \n",
      "=================================================================\n",
      " embedding (Embedding)       (None, None, 100)         200000    \n",
      "                                                                 \n",
      " conv1d (Conv1D)             (None, None, 50)          15050     \n",
      "                                                                 \n",
      " max_pooling1d (MaxPooling1D  (None, None, 50)         0         \n",
      " )                                                               \n",
      "                                                                 \n",
      " lstm (LSTM)                 (None, 100)               60400     \n",
      "                                                                 \n",
      " dropout (Dropout)           (None, 100)               0         \n",
      "                                                                 \n",
      " dense (Dense)               (None, 1)                 101       \n",
      "                                                                 \n",
      "=================================================================\n",
      "Total params: 275,551\n",
      "Trainable params: 275,551\n",
      "Non-trainable params: 0\n",
      "_________________________________________________________________\n"
     ]
    }
   ],
   "source": [
    "from tensorflow.keras.models import Sequential\n",
    "from tensorflow.keras.layers import Dense, LSTM\n",
    "from tensorflow.keras.layers import Embedding\n",
    "from tensorflow.keras.layers import Dropout\n",
    "from tensorflow.keras.layers import Conv1D\n",
    "from tensorflow.keras.layers import MaxPooling1D\n",
    "\n",
    "model = Sequential()\n",
    "model.add(Embedding(input_dim=2000, output_dim=100))\n",
    "model.add(Conv1D(50, kernel_size=3,\n",
    "                padding='valid',\n",
    "                activation='relu'))\n",
    "model.add(MaxPooling1D(pool_size=3))\n",
    "model.add(LSTM(100, activation='tanh'))\n",
    "model.add(Dropout(0.25))\n",
    "model.add(Dense(1, activation='sigmoid'))\n",
    "model.summary()"
   ]
  },
  {
   "cell_type": "markdown",
   "id": "81141a52",
   "metadata": {},
   "source": [
    "### 모형 컴파일"
   ]
  },
  {
   "cell_type": "code",
   "execution_count": 13,
   "id": "b9170d39",
   "metadata": {},
   "outputs": [],
   "source": [
    "model.compile(loss='binary_crossentropy',\n",
    "              optimizer='adam',\n",
    "             metrics=['accuracy'])"
   ]
  },
  {
   "cell_type": "markdown",
   "id": "ae8e75f9",
   "metadata": {},
   "source": [
    "### 학습"
   ]
  },
  {
   "cell_type": "code",
   "execution_count": 14,
   "id": "87ad6de2",
   "metadata": {},
   "outputs": [
    {
     "name": "stdout",
     "output_type": "stream",
     "text": [
      "Epoch 1/10\n",
      "WARNING:tensorflow:AutoGraph could not transform <function Model.make_train_function.<locals>.train_function at 0x000002569D00EA68> and will run it as-is.\n",
      "Please report this to the TensorFlow team. When filing the bug, set the verbosity to 10 (on Linux, `export AUTOGRAPH_VERBOSITY=10`) and attach the full output.\n",
      "Cause: 'arguments' object has no attribute 'posonlyargs'\n",
      "To silence this warning, decorate the function with @tf.autograph.experimental.do_not_convert\n",
      "WARNING: AutoGraph could not transform <function Model.make_train_function.<locals>.train_function at 0x000002569D00EA68> and will run it as-is.\n",
      "Please report this to the TensorFlow team. When filing the bug, set the verbosity to 10 (on Linux, `export AUTOGRAPH_VERBOSITY=10`) and attach the full output.\n",
      "Cause: 'arguments' object has no attribute 'posonlyargs'\n",
      "To silence this warning, decorate the function with @tf.autograph.experimental.do_not_convert\n",
      "200/200 [==============================] - ETA: 0s - loss: 0.4786 - accuracy: 0.7563WARNING:tensorflow:AutoGraph could not transform <function Model.make_test_function.<locals>.test_function at 0x000002569AA8F828> and will run it as-is.\n",
      "Please report this to the TensorFlow team. When filing the bug, set the verbosity to 10 (on Linux, `export AUTOGRAPH_VERBOSITY=10`) and attach the full output.\n",
      "Cause: 'arguments' object has no attribute 'posonlyargs'\n",
      "To silence this warning, decorate the function with @tf.autograph.experimental.do_not_convert\n",
      "WARNING: AutoGraph could not transform <function Model.make_test_function.<locals>.test_function at 0x000002569AA8F828> and will run it as-is.\n",
      "Please report this to the TensorFlow team. When filing the bug, set the verbosity to 10 (on Linux, `export AUTOGRAPH_VERBOSITY=10`) and attach the full output.\n",
      "Cause: 'arguments' object has no attribute 'posonlyargs'\n",
      "To silence this warning, decorate the function with @tf.autograph.experimental.do_not_convert\n",
      "200/200 [==============================] - 9s 39ms/step - loss: 0.4786 - accuracy: 0.7563 - val_loss: 0.3880 - val_accuracy: 0.8270\n",
      "Epoch 2/10\n",
      "200/200 [==============================] - 7s 36ms/step - loss: 0.3426 - accuracy: 0.8542 - val_loss: 0.3736 - val_accuracy: 0.8302\n",
      "Epoch 3/10\n",
      "200/200 [==============================] - 7s 36ms/step - loss: 0.3022 - accuracy: 0.8749 - val_loss: 0.3727 - val_accuracy: 0.8324\n",
      "Epoch 4/10\n",
      "200/200 [==============================] - 7s 36ms/step - loss: 0.2627 - accuracy: 0.8943 - val_loss: 0.3869 - val_accuracy: 0.8306\n",
      "Epoch 5/10\n",
      "200/200 [==============================] - 7s 37ms/step - loss: 0.2102 - accuracy: 0.9231 - val_loss: 0.4514 - val_accuracy: 0.8174\n",
      "Epoch 6/10\n",
      "200/200 [==============================] - 7s 35ms/step - loss: 0.1510 - accuracy: 0.9443 - val_loss: 0.4159 - val_accuracy: 0.8212\n",
      "Epoch 7/10\n",
      "200/200 [==============================] - 7s 36ms/step - loss: 0.0894 - accuracy: 0.9717 - val_loss: 0.6688 - val_accuracy: 0.8172\n",
      "Epoch 8/10\n",
      "200/200 [==============================] - 7s 35ms/step - loss: 0.0554 - accuracy: 0.9823 - val_loss: 0.7743 - val_accuracy: 0.8070\n",
      "Epoch 9/10\n",
      "200/200 [==============================] - 7s 36ms/step - loss: 0.0312 - accuracy: 0.9910 - val_loss: 0.7663 - val_accuracy: 0.8166\n",
      "Epoch 10/10\n",
      "200/200 [==============================] - 7s 36ms/step - loss: 0.0213 - accuracy: 0.9937 - val_loss: 0.9114 - val_accuracy: 0.8092\n"
     ]
    }
   ],
   "source": [
    "hist = model.fit(X_train, y_train,\n",
    "                batch_size=100,\n",
    "                epochs=10,\n",
    "                validation_data=(X_valid, y_valid))"
   ]
  },
  {
   "cell_type": "markdown",
   "id": "10fefcba",
   "metadata": {},
   "source": [
    "### 모형 평가"
   ]
  },
  {
   "cell_type": "code",
   "execution_count": 15,
   "id": "1387a480",
   "metadata": {},
   "outputs": [
    {
     "name": "stdout",
     "output_type": "stream",
     "text": [
      "625/625 [==============================] - 5s 7ms/step - loss: 0.0073 - accuracy: 0.9983\n",
      "0.9983000159263611\n",
      "157/157 [==============================] - 1s 7ms/step - loss: 0.9114 - accuracy: 0.8092\n",
      "0.8091999888420105\n",
      "782/782 [==============================] - 5s 7ms/step - loss: 0.8761 - accuracy: 0.8240\n",
      "0.82396000623703\n"
     ]
    }
   ],
   "source": [
    "print(model.evaluate(X_train, y_train)[1])\n",
    "print(model.evaluate(X_valid, y_valid)[1])\n",
    "print(model.evaluate(X_test, y_test)[1])"
   ]
  },
  {
   "cell_type": "markdown",
   "id": "65b3ae0b",
   "metadata": {},
   "source": [
    "### 정확도 & 손실 그래프"
   ]
  },
  {
   "cell_type": "code",
   "execution_count": 17,
   "id": "20320f19",
   "metadata": {},
   "outputs": [
    {
     "data": {
      "image/png": "[encoded data removed]",
      "text/plain": [
       "<Figure size 1080x360 with 2 Axes>"
      ]
     },
     "metadata": {
      "needs_background": "light"
     },
     "output_type": "display_data"
    }
   ],
   "source": [
    "import numpy as np\n",
    "epoch = np.arange(1, 11)\n",
    "acc_train = hist.history['accuracy']\n",
    "acc_valid = hist.history['val_accuracy']\n",
    "loss_train = hist.history['loss']\n",
    "loss_valid = hist.history['val_loss']\n",
    "\n",
    "import matplotlib.pyplot as plt\n",
    "plt.figure(figsize=(15, 5))\n",
    "plt.subplot(121)\n",
    "plt.plot(epoch, acc_train, 'b',\n",
    "        marker='.',\n",
    "        label='train_acc')\n",
    "plt.plot(epoch, acc_valid, 'r--',\n",
    "        marker='.',\n",
    "        label='valid_acc')\n",
    "plt.title('Accuracy')\n",
    "plt.xlabel('epoch')\n",
    "plt.ylabel('accuracy')\n",
    "plt.legend()\n",
    "plt.subplot(122)\n",
    "plt.plot(epoch, loss_train, 'b',\n",
    "        marker='.',\n",
    "        label='train_loss')\n",
    "plt.plot(epoch, loss_valid, 'r--',\n",
    "        marker='.',\n",
    "        label='valid_loss')\n",
    "plt.title('Loss')\n",
    "plt.xlabel('epoch')\n",
    "plt.ylabel('loss')\n",
    "plt.legend()\n",
    "plt.show()"
   ]
  }
 ],
 "metadata": {
  "kernelspec": {
   "display_name": "Python 3 (ipykernel)",
   "language": "python",
   "name": "python3"
  },
  "language_info": {
   "codemirror_mode": {
    "name": "ipython",
    "version": 3
   },
   "file_extension": ".py",
   "mimetype": "text/x-python",
   "name": "python",
   "nbconvert_exporter": "python",
   "pygments_lexer": "ipython3",
   "version": "3.7.6"
  },
  "varInspector": {
   "cols": {
    "lenName": 16,
    "lenType": 16,
    "lenVar": 40
   },
   "kernels_config": {
    "python": {
     "delete_cmd_postfix": "",
     "delete_cmd_prefix": "del ",
     "library": "var_list.py",
     "varRefreshCmd": "print(var_dic_list())"
    },
    "r": {
     "delete_cmd_postfix": ") ",
     "delete_cmd_prefix": "rm(",
     "library": "var_list.r",
     "varRefreshCmd": "cat(var_dic_list()) "
    }
   },
   "types_to_exclude": [
    "module",
    "function",
    "builtin_function_or_method",
    "instance",
    "_Feature"
   ],
   "window_display": false
  }
 },
 "nbformat": 4,
 "nbformat_minor": 5
}
