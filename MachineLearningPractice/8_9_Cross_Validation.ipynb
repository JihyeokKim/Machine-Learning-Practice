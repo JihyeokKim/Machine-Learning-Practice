{
 "cells": [
  {
   "cell_type": "markdown",
   "id": "af9013ca",
   "metadata": {},
   "source": [
    "# 크로스 밸리데이션 실습"
   ]
  },
  {
   "cell_type": "markdown",
   "id": "467833b8",
   "metadata": {},
   "source": [
    "### 데이터 불러오기"
   ]
  },
  {
   "cell_type": "code",
   "execution_count": 1,
   "id": "5542137b",
   "metadata": {},
   "outputs": [],
   "source": [
    "from sklearn import datasets\n",
    "raw_wine = datasets.load_wine()"
   ]
  },
  {
   "cell_type": "markdown",
   "id": "6862a6b3",
   "metadata": {},
   "source": [
    "### 피처, 타깃 데이터 지정"
   ]
  },
  {
   "cell_type": "code",
   "execution_count": 3,
   "id": "ec10da70",
   "metadata": {},
   "outputs": [],
   "source": [
    "X = raw_wine.data\n",
    "y = raw_wine.target"
   ]
  },
  {
   "cell_type": "markdown",
   "id": "b76270d9",
   "metadata": {},
   "source": [
    "### 트레이닝/테스트 분할"
   ]
  },
  {
   "cell_type": "code",
   "execution_count": 5,
   "id": "662d5c59",
   "metadata": {},
   "outputs": [],
   "source": [
    "from sklearn.model_selection import train_test_split\n",
    "X_tn, X_te, y_tn, y_te = train_test_split(X, y, random_state=0)"
   ]
  },
  {
   "cell_type": "markdown",
   "id": "a75201d9",
   "metadata": {},
   "source": [
    "### 데이터 표준화"
   ]
  },
  {
   "cell_type": "code",
   "execution_count": 11,
   "id": "23698013",
   "metadata": {},
   "outputs": [],
   "source": [
    "from sklearn.preprocessing import StandardScaler\n",
    "std_scale = StandardScaler()\n",
    "std_scale.fit(X_tn)\n",
    "X_tn_std = std_scale.transform(X_tn)\n",
    "X_te_std = std_scale.transform(X_te)"
   ]
  },
  {
   "cell_type": "markdown",
   "id": "6288bc34",
   "metadata": {},
   "source": [
    "### 그리드 서치"
   ]
  },
  {
   "cell_type": "code",
   "execution_count": 12,
   "id": "8ba38760",
   "metadata": {},
   "outputs": [
    {
     "data": {
      "text/plain": [
       "GridSearchCV(cv=StratifiedKFold(n_splits=5, random_state=0, shuffle=True),\n",
       "             estimator=SVC(random_state=0),\n",
       "             param_grid={'C': [0.5, 1, 10, 100], 'kernel': ('linear', 'rbf')},\n",
       "             scoring='accuracy')"
      ]
     },
     "execution_count": 12,
     "metadata": {},
     "output_type": "execute_result"
    }
   ],
   "source": [
    "from sklearn import svm\n",
    "from sklearn.model_selection import StratifiedKFold\n",
    "from sklearn.model_selection import GridSearchCV\n",
    "\n",
    "param_grid = {'kernel': ('linear', 'rbf'),\n",
    "             'C': [0.5, 1, 10, 100]}\n",
    "kfold = StratifiedKFold(n_splits=5, shuffle=True, random_state=0)\n",
    "svc = svm.SVC(random_state=0)\n",
    "grid_cv = GridSearchCV(svc, param_grid, cv = kfold, scoring='accuracy')\n",
    "grid_cv.fit(X_tn_std, y_tn)"
   ]
  },
  {
   "cell_type": "markdown",
   "id": "32545ee3",
   "metadata": {},
   "source": [
    "### 그리드 서치 결과 확인"
   ]
  },
  {
   "cell_type": "code",
   "execution_count": 13,
   "id": "66f1d384",
   "metadata": {},
   "outputs": [
    {
     "data": {
      "text/plain": [
       "{'mean_fit_time': array([0.00120139, 0.00139427, 0.0009933 , 0.00100565, 0.00078912,\n",
       "        0.00100217, 0.00080018, 0.00120058]),\n",
       " 'std_fit_time': array([4.01142444e-04, 4.83236314e-04, 1.24594183e-05, 1.38060622e-05,\n",
       "        3.95072158e-04, 6.36719331e-04, 4.00090370e-04, 4.14987042e-04]),\n",
       " 'mean_score_time': array([0.0002048 , 0.00019913, 0.        , 0.00039473, 0.00041184,\n",
       "        0.00039988, 0.00019999, 0.00060472]),\n",
       " 'std_score_time': array([0.0004096 , 0.00039825, 0.        , 0.00048351, 0.00050461,\n",
       "        0.00048975, 0.00039997, 0.00049382]),\n",
       " 'param_C': masked_array(data=[0.5, 0.5, 1, 1, 10, 10, 100, 100],\n",
       "              mask=[False, False, False, False, False, False, False, False],\n",
       "        fill_value='?',\n",
       "             dtype=object),\n",
       " 'param_kernel': masked_array(data=['linear', 'rbf', 'linear', 'rbf', 'linear', 'rbf',\n",
       "                    'linear', 'rbf'],\n",
       "              mask=[False, False, False, False, False, False, False, False],\n",
       "        fill_value='?',\n",
       "             dtype=object),\n",
       " 'params': [{'C': 0.5, 'kernel': 'linear'},\n",
       "  {'C': 0.5, 'kernel': 'rbf'},\n",
       "  {'C': 1, 'kernel': 'linear'},\n",
       "  {'C': 1, 'kernel': 'rbf'},\n",
       "  {'C': 10, 'kernel': 'linear'},\n",
       "  {'C': 10, 'kernel': 'rbf'},\n",
       "  {'C': 100, 'kernel': 'linear'},\n",
       "  {'C': 100, 'kernel': 'rbf'}],\n",
       " 'split0_test_score': array([0.88888889, 0.96296296, 0.88888889, 0.92592593, 0.88888889,\n",
       "        0.92592593, 0.88888889, 0.92592593]),\n",
       " 'split1_test_score': array([0.96296296, 1.        , 0.96296296, 0.96296296, 0.96296296,\n",
       "        0.96296296, 0.96296296, 0.96296296]),\n",
       " 'split2_test_score': array([0.92592593, 0.96296296, 0.92592593, 0.96296296, 0.92592593,\n",
       "        0.96296296, 0.92592593, 0.96296296]),\n",
       " 'split3_test_score': array([1.        , 0.96153846, 1.        , 0.96153846, 1.        ,\n",
       "        0.96153846, 1.        , 0.96153846]),\n",
       " 'split4_test_score': array([0.84615385, 1.        , 0.84615385, 1.        , 0.84615385,\n",
       "        1.        , 0.84615385, 1.        ]),\n",
       " 'mean_test_score': array([0.92478632, 0.97749288, 0.92478632, 0.96267806, 0.92478632,\n",
       "        0.96267806, 0.92478632, 0.96267806]),\n",
       " 'std_test_score': array([0.05401397, 0.01838435, 0.05401397, 0.02343121, 0.05401397,\n",
       "        0.02343121, 0.05401397, 0.02343121]),\n",
       " 'rank_test_score': array([5, 1, 5, 2, 5, 2, 5, 2])}"
      ]
     },
     "execution_count": 13,
     "metadata": {},
     "output_type": "execute_result"
    }
   ],
   "source": [
    "grid_cv.cv_results_"
   ]
  },
  {
   "cell_type": "markdown",
   "id": "a4b82d1d",
   "metadata": {},
   "source": [
    "### 그리드 서치 결과 확인 (데이터 프레임)"
   ]
  },
  {
   "cell_type": "code",
   "execution_count": 15,
   "id": "e3894989",
   "metadata": {},
   "outputs": [
    {
     "data": {
      "text/html": [
       "<div>\n",
       "<style scoped>\n",
       "    .dataframe tbody tr th:only-of-type {\n",
       "        vertical-align: middle;\n",
       "    }\n",
       "\n",
       "    .dataframe tbody tr th {\n",
       "        vertical-align: top;\n",
       "    }\n",
       "\n",
       "    .dataframe thead th {\n",
       "        text-align: right;\n",
       "    }\n",
       "</style>\n",
       "<table border=\"1\" class=\"dataframe\">\n",
       "  <thead>\n",
       "    <tr style=\"text-align: right;\">\n",
       "      <th></th>\n",
       "      <th>0</th>\n",
       "      <th>1</th>\n",
       "      <th>2</th>\n",
       "      <th>3</th>\n",
       "      <th>4</th>\n",
       "      <th>5</th>\n",
       "      <th>6</th>\n",
       "      <th>7</th>\n",
       "    </tr>\n",
       "  </thead>\n",
       "  <tbody>\n",
       "    <tr>\n",
       "      <th>mean_fit_time</th>\n",
       "      <td>0.001201</td>\n",
       "      <td>0.001394</td>\n",
       "      <td>0.000993</td>\n",
       "      <td>0.001006</td>\n",
       "      <td>0.000789</td>\n",
       "      <td>0.001002</td>\n",
       "      <td>0.0008</td>\n",
       "      <td>0.001201</td>\n",
       "    </tr>\n",
       "    <tr>\n",
       "      <th>std_fit_time</th>\n",
       "      <td>0.000401</td>\n",
       "      <td>0.000483</td>\n",
       "      <td>0.000012</td>\n",
       "      <td>0.000014</td>\n",
       "      <td>0.000395</td>\n",
       "      <td>0.000637</td>\n",
       "      <td>0.0004</td>\n",
       "      <td>0.000415</td>\n",
       "    </tr>\n",
       "    <tr>\n",
       "      <th>mean_score_time</th>\n",
       "      <td>0.000205</td>\n",
       "      <td>0.000199</td>\n",
       "      <td>0.0</td>\n",
       "      <td>0.000395</td>\n",
       "      <td>0.000412</td>\n",
       "      <td>0.0004</td>\n",
       "      <td>0.0002</td>\n",
       "      <td>0.000605</td>\n",
       "    </tr>\n",
       "    <tr>\n",
       "      <th>std_score_time</th>\n",
       "      <td>0.00041</td>\n",
       "      <td>0.000398</td>\n",
       "      <td>0.0</td>\n",
       "      <td>0.000484</td>\n",
       "      <td>0.000505</td>\n",
       "      <td>0.00049</td>\n",
       "      <td>0.0004</td>\n",
       "      <td>0.000494</td>\n",
       "    </tr>\n",
       "    <tr>\n",
       "      <th>param_C</th>\n",
       "      <td>0.5</td>\n",
       "      <td>0.5</td>\n",
       "      <td>1</td>\n",
       "      <td>1</td>\n",
       "      <td>10</td>\n",
       "      <td>10</td>\n",
       "      <td>100</td>\n",
       "      <td>100</td>\n",
       "    </tr>\n",
       "    <tr>\n",
       "      <th>param_kernel</th>\n",
       "      <td>linear</td>\n",
       "      <td>rbf</td>\n",
       "      <td>linear</td>\n",
       "      <td>rbf</td>\n",
       "      <td>linear</td>\n",
       "      <td>rbf</td>\n",
       "      <td>linear</td>\n",
       "      <td>rbf</td>\n",
       "    </tr>\n",
       "    <tr>\n",
       "      <th>params</th>\n",
       "      <td>{'C': 0.5, 'kernel': 'linear'}</td>\n",
       "      <td>{'C': 0.5, 'kernel': 'rbf'}</td>\n",
       "      <td>{'C': 1, 'kernel': 'linear'}</td>\n",
       "      <td>{'C': 1, 'kernel': 'rbf'}</td>\n",
       "      <td>{'C': 10, 'kernel': 'linear'}</td>\n",
       "      <td>{'C': 10, 'kernel': 'rbf'}</td>\n",
       "      <td>{'C': 100, 'kernel': 'linear'}</td>\n",
       "      <td>{'C': 100, 'kernel': 'rbf'}</td>\n",
       "    </tr>\n",
       "    <tr>\n",
       "      <th>split0_test_score</th>\n",
       "      <td>0.888889</td>\n",
       "      <td>0.962963</td>\n",
       "      <td>0.888889</td>\n",
       "      <td>0.925926</td>\n",
       "      <td>0.888889</td>\n",
       "      <td>0.925926</td>\n",
       "      <td>0.888889</td>\n",
       "      <td>0.925926</td>\n",
       "    </tr>\n",
       "    <tr>\n",
       "      <th>split1_test_score</th>\n",
       "      <td>0.962963</td>\n",
       "      <td>1.0</td>\n",
       "      <td>0.962963</td>\n",
       "      <td>0.962963</td>\n",
       "      <td>0.962963</td>\n",
       "      <td>0.962963</td>\n",
       "      <td>0.962963</td>\n",
       "      <td>0.962963</td>\n",
       "    </tr>\n",
       "    <tr>\n",
       "      <th>split2_test_score</th>\n",
       "      <td>0.925926</td>\n",
       "      <td>0.962963</td>\n",
       "      <td>0.925926</td>\n",
       "      <td>0.962963</td>\n",
       "      <td>0.925926</td>\n",
       "      <td>0.962963</td>\n",
       "      <td>0.925926</td>\n",
       "      <td>0.962963</td>\n",
       "    </tr>\n",
       "    <tr>\n",
       "      <th>split3_test_score</th>\n",
       "      <td>1.0</td>\n",
       "      <td>0.961538</td>\n",
       "      <td>1.0</td>\n",
       "      <td>0.961538</td>\n",
       "      <td>1.0</td>\n",
       "      <td>0.961538</td>\n",
       "      <td>1.0</td>\n",
       "      <td>0.961538</td>\n",
       "    </tr>\n",
       "    <tr>\n",
       "      <th>split4_test_score</th>\n",
       "      <td>0.846154</td>\n",
       "      <td>1.0</td>\n",
       "      <td>0.846154</td>\n",
       "      <td>1.0</td>\n",
       "      <td>0.846154</td>\n",
       "      <td>1.0</td>\n",
       "      <td>0.846154</td>\n",
       "      <td>1.0</td>\n",
       "    </tr>\n",
       "    <tr>\n",
       "      <th>mean_test_score</th>\n",
       "      <td>0.924786</td>\n",
       "      <td>0.977493</td>\n",
       "      <td>0.924786</td>\n",
       "      <td>0.962678</td>\n",
       "      <td>0.924786</td>\n",
       "      <td>0.962678</td>\n",
       "      <td>0.924786</td>\n",
       "      <td>0.962678</td>\n",
       "    </tr>\n",
       "    <tr>\n",
       "      <th>std_test_score</th>\n",
       "      <td>0.054014</td>\n",
       "      <td>0.018384</td>\n",
       "      <td>0.054014</td>\n",
       "      <td>0.023431</td>\n",
       "      <td>0.054014</td>\n",
       "      <td>0.023431</td>\n",
       "      <td>0.054014</td>\n",
       "      <td>0.023431</td>\n",
       "    </tr>\n",
       "    <tr>\n",
       "      <th>rank_test_score</th>\n",
       "      <td>5</td>\n",
       "      <td>1</td>\n",
       "      <td>5</td>\n",
       "      <td>2</td>\n",
       "      <td>5</td>\n",
       "      <td>2</td>\n",
       "      <td>5</td>\n",
       "      <td>2</td>\n",
       "    </tr>\n",
       "  </tbody>\n",
       "</table>\n",
       "</div>"
      ],
      "text/plain": [
       "                                                0  \\\n",
       "mean_fit_time                            0.001201   \n",
       "std_fit_time                             0.000401   \n",
       "mean_score_time                          0.000205   \n",
       "std_score_time                            0.00041   \n",
       "param_C                                       0.5   \n",
       "param_kernel                               linear   \n",
       "params             {'C': 0.5, 'kernel': 'linear'}   \n",
       "split0_test_score                        0.888889   \n",
       "split1_test_score                        0.962963   \n",
       "split2_test_score                        0.925926   \n",
       "split3_test_score                             1.0   \n",
       "split4_test_score                        0.846154   \n",
       "mean_test_score                          0.924786   \n",
       "std_test_score                           0.054014   \n",
       "rank_test_score                                 5   \n",
       "\n",
       "                                             1                             2  \\\n",
       "mean_fit_time                         0.001394                      0.000993   \n",
       "std_fit_time                          0.000483                      0.000012   \n",
       "mean_score_time                       0.000199                           0.0   \n",
       "std_score_time                        0.000398                           0.0   \n",
       "param_C                                    0.5                             1   \n",
       "param_kernel                               rbf                        linear   \n",
       "params             {'C': 0.5, 'kernel': 'rbf'}  {'C': 1, 'kernel': 'linear'}   \n",
       "split0_test_score                     0.962963                      0.888889   \n",
       "split1_test_score                          1.0                      0.962963   \n",
       "split2_test_score                     0.962963                      0.925926   \n",
       "split3_test_score                     0.961538                           1.0   \n",
       "split4_test_score                          1.0                      0.846154   \n",
       "mean_test_score                       0.977493                      0.924786   \n",
       "std_test_score                        0.018384                      0.054014   \n",
       "rank_test_score                              1                             5   \n",
       "\n",
       "                                           3                              4  \\\n",
       "mean_fit_time                       0.001006                       0.000789   \n",
       "std_fit_time                        0.000014                       0.000395   \n",
       "mean_score_time                     0.000395                       0.000412   \n",
       "std_score_time                      0.000484                       0.000505   \n",
       "param_C                                    1                             10   \n",
       "param_kernel                             rbf                         linear   \n",
       "params             {'C': 1, 'kernel': 'rbf'}  {'C': 10, 'kernel': 'linear'}   \n",
       "split0_test_score                   0.925926                       0.888889   \n",
       "split1_test_score                   0.962963                       0.962963   \n",
       "split2_test_score                   0.962963                       0.925926   \n",
       "split3_test_score                   0.961538                            1.0   \n",
       "split4_test_score                        1.0                       0.846154   \n",
       "mean_test_score                     0.962678                       0.924786   \n",
       "std_test_score                      0.023431                       0.054014   \n",
       "rank_test_score                            2                              5   \n",
       "\n",
       "                                            5                               6  \\\n",
       "mean_fit_time                        0.001002                          0.0008   \n",
       "std_fit_time                         0.000637                          0.0004   \n",
       "mean_score_time                        0.0004                          0.0002   \n",
       "std_score_time                        0.00049                          0.0004   \n",
       "param_C                                    10                             100   \n",
       "param_kernel                              rbf                          linear   \n",
       "params             {'C': 10, 'kernel': 'rbf'}  {'C': 100, 'kernel': 'linear'}   \n",
       "split0_test_score                    0.925926                        0.888889   \n",
       "split1_test_score                    0.962963                        0.962963   \n",
       "split2_test_score                    0.962963                        0.925926   \n",
       "split3_test_score                    0.961538                             1.0   \n",
       "split4_test_score                         1.0                        0.846154   \n",
       "mean_test_score                      0.962678                        0.924786   \n",
       "std_test_score                       0.023431                        0.054014   \n",
       "rank_test_score                             2                               5   \n",
       "\n",
       "                                             7  \n",
       "mean_fit_time                         0.001201  \n",
       "std_fit_time                          0.000415  \n",
       "mean_score_time                       0.000605  \n",
       "std_score_time                        0.000494  \n",
       "param_C                                    100  \n",
       "param_kernel                               rbf  \n",
       "params             {'C': 100, 'kernel': 'rbf'}  \n",
       "split0_test_score                     0.925926  \n",
       "split1_test_score                     0.962963  \n",
       "split2_test_score                     0.962963  \n",
       "split3_test_score                     0.961538  \n",
       "split4_test_score                          1.0  \n",
       "mean_test_score                       0.962678  \n",
       "std_test_score                        0.023431  \n",
       "rank_test_score                              2  "
      ]
     },
     "execution_count": 15,
     "metadata": {},
     "output_type": "execute_result"
    }
   ],
   "source": [
    "import numpy as np\n",
    "import pandas as pd\n",
    "np.transpose(pd.DataFrame(grid_cv.cv_results_))"
   ]
  },
  {
   "cell_type": "markdown",
   "id": "3861ade8",
   "metadata": {},
   "source": [
    "### 베스트 스코어 & 하이퍼파라미터"
   ]
  },
  {
   "cell_type": "code",
   "execution_count": 16,
   "id": "8ce4af4a",
   "metadata": {},
   "outputs": [
    {
     "data": {
      "text/plain": [
       "0.9774928774928775"
      ]
     },
     "execution_count": 16,
     "metadata": {},
     "output_type": "execute_result"
    }
   ],
   "source": [
    "grid_cv.best_score_"
   ]
  },
  {
   "cell_type": "code",
   "execution_count": 17,
   "id": "bc2d6931",
   "metadata": {},
   "outputs": [
    {
     "data": {
      "text/plain": [
       "{'C': 0.5, 'kernel': 'rbf'}"
      ]
     },
     "execution_count": 17,
     "metadata": {},
     "output_type": "execute_result"
    }
   ],
   "source": [
    "grid_cv.best_params_"
   ]
  },
  {
   "cell_type": "markdown",
   "id": "5d7ca09d",
   "metadata": {},
   "source": [
    "### 최종 모형"
   ]
  },
  {
   "cell_type": "code",
   "execution_count": 19,
   "id": "9e6ebd1c",
   "metadata": {},
   "outputs": [
    {
     "name": "stdout",
     "output_type": "stream",
     "text": [
      "SVC(C=0.5, random_state=0)\n"
     ]
    }
   ],
   "source": [
    "clf = grid_cv.best_estimator_\n",
    "print(clf)"
   ]
  },
  {
   "cell_type": "markdown",
   "id": "a1e27a54",
   "metadata": {},
   "source": [
    "### 크로스 밸리데이션 스코어 확인(1)"
   ]
  },
  {
   "cell_type": "code",
   "execution_count": 23,
   "id": "ce1c7b15",
   "metadata": {},
   "outputs": [],
   "source": [
    "from sklearn.model_selection import cross_validate\n",
    "metrics = ['accuracy', 'precision_macro', 'recall_macro', 'f1_macro']\n",
    "cv_scores = cross_validate(clf, X_tn_std, y_tn,\n",
    "                          cv=kfold, scoring=metrics)"
   ]
  },
  {
   "cell_type": "code",
   "execution_count": 24,
   "id": "1a427632",
   "metadata": {},
   "outputs": [
    {
     "data": {
      "text/plain": [
       "{'fit_time': array([0.00200105, 0.00200248, 0.00200224, 0.00100279, 0.00199604]),\n",
       " 'score_time': array([0.00299954, 0.00400066, 0.00199938, 0.0039978 , 0.00199914]),\n",
       " 'test_accuracy': array([0.96296296, 1.        , 0.96296296, 0.96153846, 1.        ]),\n",
       " 'test_precision_macro': array([0.96296296, 1.        , 0.96969697, 0.96969697, 1.        ]),\n",
       " 'test_recall_macro': array([0.96666667, 1.        , 0.96296296, 0.95833333, 1.        ]),\n",
       " 'test_f1_macro': array([0.9628483 , 1.        , 0.96451914, 0.96190476, 1.        ])}"
      ]
     },
     "execution_count": 24,
     "metadata": {},
     "output_type": "execute_result"
    }
   ],
   "source": [
    "cv_scores"
   ]
  },
  {
   "cell_type": "markdown",
   "id": "cae53342",
   "metadata": {},
   "source": [
    "### 크로스 밸리데이션 스코어 확인(2)"
   ]
  },
  {
   "cell_type": "code",
   "execution_count": 26,
   "id": "d56d3fe1",
   "metadata": {},
   "outputs": [],
   "source": [
    "from sklearn.model_selection import cross_val_score\n",
    "cv_score = cross_val_score(clf, X_tn_std, y_tn,\n",
    "                          cv=kfold, scoring='accuracy')"
   ]
  },
  {
   "cell_type": "code",
   "execution_count": 28,
   "id": "d1b39d4b",
   "metadata": {},
   "outputs": [
    {
     "name": "stdout",
     "output_type": "stream",
     "text": [
      "[0.96296296 1.         0.96296296 0.96153846 1.        ]\n",
      "0.9774928774928775\n",
      "0.01838434849561446\n"
     ]
    }
   ],
   "source": [
    "print(cv_score)\n",
    "print(cv_score.mean())\n",
    "print(cv_score.std())"
   ]
  },
  {
   "cell_type": "markdown",
   "id": "f9b459a1",
   "metadata": {},
   "source": [
    "### 예측"
   ]
  },
  {
   "cell_type": "code",
   "execution_count": 29,
   "id": "4fd85635",
   "metadata": {},
   "outputs": [
    {
     "name": "stdout",
     "output_type": "stream",
     "text": [
      "[0 2 1 0 1 1 0 2 1 1 2 2 0 1 2 1 0 0 1 0 1 0 0 1 1 1 1 1 1 2 0 0 1 0 0 0 2\n",
      " 1 1 2 0 0 1 1 1]\n"
     ]
    }
   ],
   "source": [
    "pred_svm = clf.predict(X_te_std)\n",
    "print(pred_svm)"
   ]
  },
  {
   "cell_type": "markdown",
   "id": "ced3c0fc",
   "metadata": {},
   "source": [
    "### 정확도"
   ]
  },
  {
   "cell_type": "code",
   "execution_count": 30,
   "id": "835b9891",
   "metadata": {},
   "outputs": [
    {
     "name": "stdout",
     "output_type": "stream",
     "text": [
      "1.0\n"
     ]
    }
   ],
   "source": [
    "from sklearn.metrics import accuracy_score\n",
    "accuracy = accuracy_score(y_te, pred_svm)\n",
    "print(accuracy)"
   ]
  },
  {
   "cell_type": "markdown",
   "id": "4da3c7bc",
   "metadata": {},
   "source": [
    "### confusion matrix 확인"
   ]
  },
  {
   "cell_type": "code",
   "execution_count": 31,
   "id": "7b2840f9",
   "metadata": {},
   "outputs": [
    {
     "data": {
      "text/html": [
       "<div>\n",
       "<style scoped>\n",
       "    .dataframe tbody tr th:only-of-type {\n",
       "        vertical-align: middle;\n",
       "    }\n",
       "\n",
       "    .dataframe tbody tr th {\n",
       "        vertical-align: top;\n",
       "    }\n",
       "\n",
       "    .dataframe thead th {\n",
       "        text-align: right;\n",
       "    }\n",
       "</style>\n",
       "<table border=\"1\" class=\"dataframe\">\n",
       "  <thead>\n",
       "    <tr style=\"text-align: right;\">\n",
       "      <th></th>\n",
       "      <th>0</th>\n",
       "      <th>1</th>\n",
       "      <th>2</th>\n",
       "    </tr>\n",
       "  </thead>\n",
       "  <tbody>\n",
       "    <tr>\n",
       "      <th>0</th>\n",
       "      <td>16</td>\n",
       "      <td>0</td>\n",
       "      <td>0</td>\n",
       "    </tr>\n",
       "    <tr>\n",
       "      <th>1</th>\n",
       "      <td>0</td>\n",
       "      <td>21</td>\n",
       "      <td>0</td>\n",
       "    </tr>\n",
       "    <tr>\n",
       "      <th>2</th>\n",
       "      <td>0</td>\n",
       "      <td>0</td>\n",
       "      <td>8</td>\n",
       "    </tr>\n",
       "  </tbody>\n",
       "</table>\n",
       "</div>"
      ],
      "text/plain": [
       "    0   1  2\n",
       "0  16   0  0\n",
       "1   0  21  0\n",
       "2   0   0  8"
      ]
     },
     "execution_count": 31,
     "metadata": {},
     "output_type": "execute_result"
    }
   ],
   "source": [
    "from sklearn.metrics import confusion_matrix\n",
    "conf_matrix = confusion_matrix(y_te, pred_svm)\n",
    "import pandas as pd\n",
    "pd.DataFrame(conf_matrix)"
   ]
  },
  {
   "cell_type": "markdown",
   "id": "6bae1cae",
   "metadata": {},
   "source": [
    "### 분류 리포트 확인"
   ]
  },
  {
   "cell_type": "code",
   "execution_count": 32,
   "id": "2f51f796",
   "metadata": {},
   "outputs": [
    {
     "name": "stdout",
     "output_type": "stream",
     "text": [
      "              precision    recall  f1-score   support\n",
      "\n",
      "           0       1.00      1.00      1.00        16\n",
      "           1       1.00      1.00      1.00        21\n",
      "           2       1.00      1.00      1.00         8\n",
      "\n",
      "    accuracy                           1.00        45\n",
      "   macro avg       1.00      1.00      1.00        45\n",
      "weighted avg       1.00      1.00      1.00        45\n",
      "\n"
     ]
    }
   ],
   "source": [
    "from sklearn.metrics import classification_report\n",
    "class_report = classification_report(y_te, pred_svm)\n",
    "print(class_report)"
   ]
  }
 ],
 "metadata": {
  "kernelspec": {
   "display_name": "Python 3 (ipykernel)",
   "language": "python",
   "name": "python3"
  },
  "language_info": {
   "codemirror_mode": {
    "name": "ipython",
    "version": 3
   },
   "file_extension": ".py",
   "mimetype": "text/x-python",
   "name": "python",
   "nbconvert_exporter": "python",
   "pygments_lexer": "ipython3",
   "version": "3.7.6"
  },
  "varInspector": {
   "cols": {
    "lenName": 16,
    "lenType": 16,
    "lenVar": 40
   },
   "kernels_config": {
    "python": {
     "delete_cmd_postfix": "",
     "delete_cmd_prefix": "del ",
     "library": "var_list.py",
     "varRefreshCmd": "print(var_dic_list())"
    },
    "r": {
     "delete_cmd_postfix": ") ",
     "delete_cmd_prefix": "rm(",
     "library": "var_list.r",
     "varRefreshCmd": "cat(var_dic_list()) "
    }
   },
   "types_to_exclude": [
    "module",
    "function",
    "builtin_function_or_method",
    "instance",
    "_Feature"
   ],
   "window_display": false
  }
 },
 "nbformat": 4,
 "nbformat_minor": 5
}
