{
 "cells": [
  {
   "cell_type": "markdown",
   "id": "0911c7e3",
   "metadata": {},
   "source": [
    "# 선형 회귀 분석"
   ]
  },
  {
   "cell_type": "markdown",
   "id": "83afa6c1",
   "metadata": {},
   "source": [
    "### 데이터 불러오기"
   ]
  },
  {
   "cell_type": "code",
   "execution_count": 2,
   "id": "87d5143e",
   "metadata": {},
   "outputs": [],
   "source": [
    "from sklearn import datasets\n",
    "raw_boston = datasets.load_boston()"
   ]
  },
  {
   "cell_type": "markdown",
   "id": "b1d035d0",
   "metadata": {},
   "source": [
    "### 피처, 타깃 데이터 지정"
   ]
  },
  {
   "cell_type": "code",
   "execution_count": 3,
   "id": "fc29a1be",
   "metadata": {},
   "outputs": [],
   "source": [
    "X = raw_boston.data\n",
    "y = raw_boston.target"
   ]
  },
  {
   "cell_type": "markdown",
   "id": "a3d1a5fd",
   "metadata": {},
   "source": [
    "### 트레이닝/테스트 데이터 분할"
   ]
  },
  {
   "cell_type": "code",
   "execution_count": 4,
   "id": "85370457",
   "metadata": {},
   "outputs": [],
   "source": [
    "from sklearn.model_selection import train_test_split\n",
    "X_tn, X_te, y_tn, y_te = train_test_split(X, y, random_state=1)"
   ]
  },
  {
   "cell_type": "markdown",
   "id": "4b498ee2",
   "metadata": {},
   "source": [
    "### 데이터 표준화"
   ]
  },
  {
   "cell_type": "code",
   "execution_count": 8,
   "id": "dbf154dc",
   "metadata": {},
   "outputs": [],
   "source": [
    "from sklearn.preprocessing import StandardScaler\n",
    "std_scale = StandardScaler()\n",
    "std_scale.fit(X_tn)\n",
    "X_tn_std = std_scale.transform(X_tn)\n",
    "X_te_std = std_scale.transform(X_te)"
   ]
  },
  {
   "cell_type": "markdown",
   "id": "474e6f3f",
   "metadata": {},
   "source": [
    "## 데이터 학습 (선형 회귀 분석)"
   ]
  },
  {
   "cell_type": "code",
   "execution_count": 10,
   "id": "5257387d",
   "metadata": {},
   "outputs": [
    {
     "data": {
      "text/plain": [
       "LinearRegression()"
      ]
     },
     "execution_count": 10,
     "metadata": {},
     "output_type": "execute_result"
    }
   ],
   "source": [
    "from sklearn.linear_model import LinearRegression\n",
    "clf_lr = LinearRegression()\n",
    "clf_lr.fit(X_tn_std, y_tn)"
   ]
  },
  {
   "cell_type": "markdown",
   "id": "4576c802",
   "metadata": {},
   "source": [
    "### 선형 회귀 분석 계수, 상수항 확인"
   ]
  },
  {
   "cell_type": "code",
   "execution_count": 11,
   "id": "4ff9eadf",
   "metadata": {},
   "outputs": [
    {
     "name": "stdout",
     "output_type": "stream",
     "text": [
      "[-1.07145146  1.34036243  0.26298069  0.66554537 -2.49842551  1.97524314\n",
      "  0.19516605 -3.14274974  2.66736136 -1.80685572 -2.13034748  0.56172933\n",
      " -4.03223518]\n"
     ]
    }
   ],
   "source": [
    "print(clf_lr.coef_)"
   ]
  },
  {
   "cell_type": "code",
   "execution_count": 12,
   "id": "e2ef6a42",
   "metadata": {},
   "outputs": [
    {
     "name": "stdout",
     "output_type": "stream",
     "text": [
      "22.344591029023768\n"
     ]
    }
   ],
   "source": [
    "print(clf_lr.intercept_)"
   ]
  },
  {
   "cell_type": "markdown",
   "id": "33e789f8",
   "metadata": {},
   "source": [
    "## 데이터 학습 (L2 제약식 적용, 릿지 회귀 분석)"
   ]
  },
  {
   "cell_type": "code",
   "execution_count": 13,
   "id": "4c9c40ca",
   "metadata": {},
   "outputs": [
    {
     "data": {
      "text/plain": [
       "Ridge(alpha=1)"
      ]
     },
     "execution_count": 13,
     "metadata": {},
     "output_type": "execute_result"
    }
   ],
   "source": [
    "from sklearn.linear_model import Ridge\n",
    "clf_ridge = Ridge(alpha=1)\n",
    "clf_ridge.fit(X_tn_std, y_tn)"
   ]
  },
  {
   "cell_type": "markdown",
   "id": "d0d1125d",
   "metadata": {},
   "source": [
    "### 릿지 회귀 분석 계수, 상수항 확인"
   ]
  },
  {
   "cell_type": "code",
   "execution_count": 14,
   "id": "7b812732",
   "metadata": {},
   "outputs": [
    {
     "name": "stdout",
     "output_type": "stream",
     "text": [
      "[-1.05933451  1.31050717  0.23022789  0.66955241 -2.45607567  1.99086611\n",
      "  0.18119169 -3.09919804  2.56480813 -1.71116799 -2.12002592  0.56264409\n",
      " -4.00942448]\n"
     ]
    }
   ],
   "source": [
    "print(clf_ridge.coef_)"
   ]
  },
  {
   "cell_type": "code",
   "execution_count": 15,
   "id": "c7c24be8",
   "metadata": {},
   "outputs": [
    {
     "name": "stdout",
     "output_type": "stream",
     "text": [
      "22.344591029023768\n"
     ]
    }
   ],
   "source": [
    "print(clf_ridge.intercept_)"
   ]
  },
  {
   "cell_type": "markdown",
   "id": "6fa74f11",
   "metadata": {},
   "source": [
    "## 데이터 학습 (L1 제약식 적용, 라쏘 회귀 분석)"
   ]
  },
  {
   "cell_type": "code",
   "execution_count": 17,
   "id": "475575e7",
   "metadata": {},
   "outputs": [
    {
     "data": {
      "text/plain": [
       "Lasso(alpha=0.01)"
      ]
     },
     "execution_count": 17,
     "metadata": {},
     "output_type": "execute_result"
    }
   ],
   "source": [
    "from sklearn.linear_model import Lasso\n",
    "clf_lasso = Lasso(alpha=0.01)\n",
    "clf_lasso.fit(X_tn_std, y_tn)"
   ]
  },
  {
   "cell_type": "markdown",
   "id": "24b1e0cf",
   "metadata": {},
   "source": [
    "### 라쏘 회귀 분석 계수, 상수항 확인"
   ]
  },
  {
   "cell_type": "code",
   "execution_count": 18,
   "id": "4b6c6afe",
   "metadata": {},
   "outputs": [
    {
     "name": "stdout",
     "output_type": "stream",
     "text": [
      "[-1.04326518  1.27752711  0.1674367   0.66758228 -2.41559964  1.99244179\n",
      "  0.14733958 -3.09473711  2.46431135 -1.60552274 -2.11046422  0.55200229\n",
      " -4.00809905]\n"
     ]
    }
   ],
   "source": [
    "print(clf_lasso.coef_)"
   ]
  },
  {
   "cell_type": "code",
   "execution_count": 19,
   "id": "9f481d48",
   "metadata": {},
   "outputs": [
    {
     "name": "stdout",
     "output_type": "stream",
     "text": [
      "22.344591029023768\n"
     ]
    }
   ],
   "source": [
    "print(clf_lasso.intercept_)"
   ]
  },
  {
   "cell_type": "markdown",
   "id": "cda5e866",
   "metadata": {},
   "source": [
    "## 데이터 학습(엘라스틱 넷)"
   ]
  },
  {
   "cell_type": "code",
   "execution_count": 21,
   "id": "5b5ba5b2",
   "metadata": {},
   "outputs": [
    {
     "data": {
      "text/plain": [
       "ElasticNet(alpha=0.01, l1_ratio=0.01)"
      ]
     },
     "execution_count": 21,
     "metadata": {},
     "output_type": "execute_result"
    }
   ],
   "source": [
    "from sklearn.linear_model import ElasticNet\n",
    "clf_elastic = ElasticNet(alpha=0.01, l1_ratio=0.01)\n",
    "clf_elastic.fit(X_tn_std, y_tn)"
   ]
  },
  {
   "cell_type": "markdown",
   "id": "831e0f8d",
   "metadata": {},
   "source": [
    "### 엘라스틱 넷 계수, 상수항 확인"
   ]
  },
  {
   "cell_type": "code",
   "execution_count": 22,
   "id": "68b8c4ef",
   "metadata": {},
   "outputs": [
    {
     "name": "stdout",
     "output_type": "stream",
     "text": [
      "[-1.02916603  1.23681955  0.15236504  0.67859622 -2.34646781  2.02965524\n",
      "  0.14575132 -2.98592423  2.32013379 -1.48829485 -2.09271972  0.56506801\n",
      " -3.9495281 ]\n"
     ]
    }
   ],
   "source": [
    "print(clf_elastic.coef_)"
   ]
  },
  {
   "cell_type": "code",
   "execution_count": 23,
   "id": "57a2c043",
   "metadata": {},
   "outputs": [
    {
     "name": "stdout",
     "output_type": "stream",
     "text": [
      "22.344591029023768\n"
     ]
    }
   ],
   "source": [
    "print(clf_elastic.intercept_)"
   ]
  },
  {
   "cell_type": "markdown",
   "id": "be093407",
   "metadata": {},
   "source": [
    "### 데이터 예측"
   ]
  },
  {
   "cell_type": "code",
   "execution_count": 24,
   "id": "53ca470e",
   "metadata": {},
   "outputs": [],
   "source": [
    "pred_lr = clf_lr.predict(X_te_std)\n",
    "pred_ridge = clf_ridge.predict(X_te_std)\n",
    "pred_lasso = clf_lasso.predict(X_te_std)\n",
    "pred_elastic = clf_elastic.predict(X_te_std)"
   ]
  },
  {
   "cell_type": "markdown",
   "id": "43711b8d",
   "metadata": {},
   "source": [
    "### 모형 평가 - R 제곱값"
   ]
  },
  {
   "cell_type": "code",
   "execution_count": 25,
   "id": "a692d5a4",
   "metadata": {},
   "outputs": [
    {
     "name": "stdout",
     "output_type": "stream",
     "text": [
      "0.7789410172622858\n"
     ]
    }
   ],
   "source": [
    "from sklearn.metrics import r2_score\n",
    "print(r2_score(y_te, pred_lr))"
   ]
  },
  {
   "cell_type": "code",
   "execution_count": 26,
   "id": "43310f53",
   "metadata": {},
   "outputs": [
    {
     "name": "stdout",
     "output_type": "stream",
     "text": [
      "0.7789704562726603\n"
     ]
    }
   ],
   "source": [
    "print(r2_score(y_te, pred_ridge))"
   ]
  },
  {
   "cell_type": "code",
   "execution_count": 27,
   "id": "f12ace54",
   "metadata": {},
   "outputs": [
    {
     "name": "stdout",
     "output_type": "stream",
     "text": [
      "0.7787621490259895\n"
     ]
    }
   ],
   "source": [
    "print(r2_score(y_te, pred_lasso))"
   ]
  },
  {
   "cell_type": "code",
   "execution_count": 28,
   "id": "fdf9aa90",
   "metadata": {},
   "outputs": [
    {
     "name": "stdout",
     "output_type": "stream",
     "text": [
      "0.7787876079239252\n"
     ]
    }
   ],
   "source": [
    "print(r2_score(y_te, pred_elastic))"
   ]
  },
  {
   "cell_type": "markdown",
   "id": "fbeed5fa",
   "metadata": {},
   "source": [
    "### 모형 평가 - MSE"
   ]
  },
  {
   "cell_type": "code",
   "execution_count": 29,
   "id": "ba25c76a",
   "metadata": {},
   "outputs": [
    {
     "name": "stdout",
     "output_type": "stream",
     "text": [
      "21.89776539604949\n"
     ]
    }
   ],
   "source": [
    "from sklearn.metrics import mean_squared_error\n",
    "print(mean_squared_error(y_te, pred_lr))"
   ]
  },
  {
   "cell_type": "code",
   "execution_count": 30,
   "id": "ce4c2488",
   "metadata": {},
   "outputs": [
    {
     "name": "stdout",
     "output_type": "stream",
     "text": [
      "21.894849212618773\n"
     ]
    }
   ],
   "source": [
    "print(mean_squared_error(y_te, pred_ridge))"
   ]
  },
  {
   "cell_type": "code",
   "execution_count": 31,
   "id": "86f433e4",
   "metadata": {},
   "outputs": [
    {
     "name": "stdout",
     "output_type": "stream",
     "text": [
      "21.915483810504824\n"
     ]
    }
   ],
   "source": [
    "print(mean_squared_error(y_te, pred_lasso))"
   ]
  },
  {
   "cell_type": "code",
   "execution_count": 32,
   "id": "2f9cfb04",
   "metadata": {},
   "outputs": [
    {
     "name": "stdout",
     "output_type": "stream",
     "text": [
      "21.91296189093687\n"
     ]
    }
   ],
   "source": [
    "print(mean_squared_error(y_te, pred_elastic))"
   ]
  }
 ],
 "metadata": {
  "kernelspec": {
   "display_name": "Python 3 (ipykernel)",
   "language": "python",
   "name": "python3"
  },
  "language_info": {
   "codemirror_mode": {
    "name": "ipython",
    "version": 3
   },
   "file_extension": ".py",
   "mimetype": "text/x-python",
   "name": "python",
   "nbconvert_exporter": "python",
   "pygments_lexer": "ipython3",
   "version": "3.7.6"
  },
  "varInspector": {
   "cols": {
    "lenName": 16,
    "lenType": 16,
    "lenVar": 40
   },
   "kernels_config": {
    "python": {
     "delete_cmd_postfix": "",
     "delete_cmd_prefix": "del ",
     "library": "var_list.py",
     "varRefreshCmd": "print(var_dic_list())"
    },
    "r": {
     "delete_cmd_postfix": ") ",
     "delete_cmd_prefix": "rm(",
     "library": "var_list.r",
     "varRefreshCmd": "cat(var_dic_list()) "
    }
   },
   "types_to_exclude": [
    "module",
    "function",
    "builtin_function_or_method",
    "instance",
    "_Feature"
   ],
   "window_display": false
  }
 },
 "nbformat": 4,
 "nbformat_minor": 5
}
