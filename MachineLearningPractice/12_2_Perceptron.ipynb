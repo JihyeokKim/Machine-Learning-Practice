{
 "cells": [
  {
   "cell_type": "markdown",
   "id": "8925f45b",
   "metadata": {},
   "source": [
    "# 퍼셉트론 실습"
   ]
  },
  {
   "cell_type": "code",
   "execution_count": 1,
   "id": "b75b0725",
   "metadata": {},
   "outputs": [
    {
     "name": "stdout",
     "output_type": "stream",
     "text": [
      "[[2 3]\n",
      " [5 1]]\n"
     ]
    }
   ],
   "source": [
    "import numpy as np\n",
    "\n",
    "# 입력층\n",
    "input_data = np.array([[2,3], [5,1]])\n",
    "print(input_data)"
   ]
  },
  {
   "cell_type": "code",
   "execution_count": 2,
   "id": "888807a8",
   "metadata": {},
   "outputs": [
    {
     "name": "stdout",
     "output_type": "stream",
     "text": [
      "[2 3 5 1]\n"
     ]
    }
   ],
   "source": [
    "# 기존 행렬을 벡터로 변환\n",
    "x = input_data.reshape(-1)\n",
    "print(x)"
   ]
  },
  {
   "cell_type": "code",
   "execution_count": 3,
   "id": "db232112",
   "metadata": {},
   "outputs": [],
   "source": [
    "# 가중치 및 편향\n",
    "w1 = np.array([2,1,-3,3])\n",
    "w2 = np.array([1,-3,1,3])\n",
    "b1 = 3\n",
    "b2 = 3"
   ]
  },
  {
   "cell_type": "code",
   "execution_count": 4,
   "id": "bed5cb70",
   "metadata": {},
   "outputs": [
    {
     "name": "stdout",
     "output_type": "stream",
     "text": [
      "[[ 2  1 -3  3]\n",
      " [ 1 -3  1  3]]\n"
     ]
    }
   ],
   "source": [
    "# 가중합\n",
    "W = np.array([w1, w2])\n",
    "print(W)"
   ]
  },
  {
   "cell_type": "code",
   "execution_count": 5,
   "id": "1436209d",
   "metadata": {},
   "outputs": [
    {
     "name": "stdout",
     "output_type": "stream",
     "text": [
      "[3 3]\n"
     ]
    }
   ],
   "source": [
    "b = np.array([b1, b2])\n",
    "print(b)"
   ]
  },
  {
   "cell_type": "code",
   "execution_count": 7,
   "id": "22ff7263",
   "metadata": {},
   "outputs": [
    {
     "name": "stdout",
     "output_type": "stream",
     "text": [
      "[-2  4]\n"
     ]
    }
   ],
   "source": [
    "# 행렬곱 계산\n",
    "weight_sum = np.dot(W, x) + b\n",
    "print(weight_sum)"
   ]
  },
  {
   "cell_type": "code",
   "execution_count": 8,
   "id": "162f36ef",
   "metadata": {},
   "outputs": [
    {
     "name": "stdout",
     "output_type": "stream",
     "text": [
      "[0.11920292 0.98201379]\n"
     ]
    }
   ],
   "source": [
    "# 출력층\n",
    "res = 1/(1+np.exp(-weight_sum))\n",
    "print(res)"
   ]
  }
 ],
 "metadata": {
  "kernelspec": {
   "display_name": "Python 3 (ipykernel)",
   "language": "python",
   "name": "python3"
  },
  "language_info": {
   "codemirror_mode": {
    "name": "ipython",
    "version": 3
   },
   "file_extension": ".py",
   "mimetype": "text/x-python",
   "name": "python",
   "nbconvert_exporter": "python",
   "pygments_lexer": "ipython3",
   "version": "3.7.6"
  },
  "varInspector": {
   "cols": {
    "lenName": 16,
    "lenType": 16,
    "lenVar": 40
   },
   "kernels_config": {
    "python": {
     "delete_cmd_postfix": "",
     "delete_cmd_prefix": "del ",
     "library": "var_list.py",
     "varRefreshCmd": "print(var_dic_list())"
    },
    "r": {
     "delete_cmd_postfix": ") ",
     "delete_cmd_prefix": "rm(",
     "library": "var_list.r",
     "varRefreshCmd": "cat(var_dic_list()) "
    }
   },
   "types_to_exclude": [
    "module",
    "function",
    "builtin_function_or_method",
    "instance",
    "_Feature"
   ],
   "window_display": false
  }
 },
 "nbformat": 4,
 "nbformat_minor": 5
}
