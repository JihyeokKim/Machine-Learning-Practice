{
 "cells": [
  {
   "cell_type": "code",
   "execution_count": 13,
   "id": "6be8727c",
   "metadata": {},
   "outputs": [
    {
     "name": "stdout",
     "output_type": "stream",
     "text": [
      "10 512 512\n",
      "786432\n"
     ]
    }
   ],
   "source": [
    "def solve(n, x, y):\n",
    "    global result\n",
    "    if n == 2:\n",
    "        if x == r and y == c:\n",
    "            print(result)\n",
    "            return\n",
    "        result += 1\n",
    "        if x == r and y + 1 == c:\n",
    "            print(result)\n",
    "            return\n",
    "        result += 1\n",
    "        if x + 1 == r and y == c:\n",
    "            print(result)\n",
    "            return\n",
    "        result += 1\n",
    "        if x + 1 == r and y + 1 == c:\n",
    "            print(result)\n",
    "            return\n",
    "        result += 1\n",
    "        return\n",
    "    \n",
    "    solve(n/2, x, y)\n",
    "    solve(n/2, x, y + n/2)\n",
    "    solve(n/2, x + n/2, y)\n",
    "    solve(n/2, x + n/2, y + n/2)\n",
    "    \n",
    "    \n",
    "result = 0\n",
    "N, r, c = list(map(int, input().split()))\n",
    "solve(2**N, 0, 0)"
   ]
  },
  {
   "cell_type": "code",
   "execution_count": 12,
   "id": "ec6834ec",
   "metadata": {},
   "outputs": [
    {
     "name": "stdout",
     "output_type": "stream",
     "text": [
      "10 512 512\n",
      "786432\n"
     ]
    }
   ],
   "source": [
    "def solve2(N, m, l, r, c):\n",
    "    global result\n",
    "    m, r = divmod(r, 2**(N-1))\n",
    "    l, c = divmod(c, 2**(N-1))\n",
    "    if m == 0 and l == 0:\n",
    "        result += 0\n",
    "\n",
    "    elif m == 0 and l == 1:\n",
    "        result += (2**(N-1))**2\n",
    "\n",
    "    elif m == 1 and l == 0:\n",
    "        result += ((2**(N-1))**2)*2\n",
    "\n",
    "    elif m == 1 and l == 1:\n",
    "        result += ((2**(N-1))**2)*3\n",
    "\n",
    "    \n",
    "    if N == 1:\n",
    "        if r == 0 and c == 0:\n",
    "            print(result)\n",
    "            return\n",
    "        result += 1\n",
    "        if r == 0 and c == 1:\n",
    "            print(result)\n",
    "            return\n",
    "        result += 1\n",
    "        if r == 1 and c == 0:\n",
    "            print(result)\n",
    "            return\n",
    "        result+=1\n",
    "        if r == 1 and c == 1:\n",
    "            print(result)\n",
    "            return\n",
    "        \n",
    "    solve2(N-1, m, l, r, c)\n",
    "    \n",
    "result = 0\n",
    "N, r, c = list(map(int, input().split()))\n",
    "solve2(N, r, c, r, c)"
   ]
  },
  {
   "cell_type": "code",
   "execution_count": 23,
   "id": "49f49b91",
   "metadata": {},
   "outputs": [
    {
     "name": "stdout",
     "output_type": "stream",
     "text": [
      "2\n",
      "3\n",
      "1+2-3\n",
      "\n",
      "7\n",
      "1+2-3+4-5-6+7\n",
      "1+2-3-4+5+6-7\n",
      "1-2 3+4+5+6+7\n",
      "1-2 3-4 5+6 7\n",
      "1-2+3+4-5+6-7\n",
      "1-2-3-4-5+6+7\n",
      "\n"
     ]
    }
   ],
   "source": [
    "import copy\n",
    "\n",
    "def recursive(array, n):\n",
    "    if len(array) == n:\n",
    "        operation_list.append(copy.deepcopy(array))\n",
    "        return\n",
    "    \n",
    "    array.append(' ')\n",
    "    recursive(array, n)\n",
    "    array.pop()\n",
    "    \n",
    "    array.append('+')\n",
    "    recursive(array, n)\n",
    "    array.pop()\n",
    "    \n",
    "    array.append('-')\n",
    "    recursive(array, n)\n",
    "    array.pop()\n",
    "    \n",
    "    return\n",
    "\n",
    "test = int(input())\n",
    "\n",
    "for _ in range(test):\n",
    "    operation_list = []\n",
    "    n = int(input())\n",
    "    number = [i for i in range(1,n+1)]\n",
    "    recursive([], n - 1)\n",
    "    for j in operation_list:\n",
    "        string = \"\"\n",
    "        for i in range(n - 1):\n",
    "            string += str(number[i]) + j[i]\n",
    "        string += str(number[-1])\n",
    "        if eval(string.replace(\" \", \"\")) == 0:\n",
    "            print(string)\n",
    "    print()"
   ]
  },
  {
   "cell_type": "code",
   "execution_count": null,
   "id": "ba9dab5c",
   "metadata": {},
   "outputs": [],
   "source": []
  }
 ],
 "metadata": {
  "kernelspec": {
   "display_name": "Python 3 (ipykernel)",
   "language": "python",
   "name": "python3"
  },
  "language_info": {
   "codemirror_mode": {
    "name": "ipython",
    "version": 3
   },
   "file_extension": ".py",
   "mimetype": "text/x-python",
   "name": "python",
   "nbconvert_exporter": "python",
   "pygments_lexer": "ipython3",
   "version": "3.8.11"
  },
  "varInspector": {
   "cols": {
    "lenName": 16,
    "lenType": 16,
    "lenVar": 40
   },
   "kernels_config": {
    "python": {
     "delete_cmd_postfix": "",
     "delete_cmd_prefix": "del ",
     "library": "var_list.py",
     "varRefreshCmd": "print(var_dic_list())"
    },
    "r": {
     "delete_cmd_postfix": ") ",
     "delete_cmd_prefix": "rm(",
     "library": "var_list.r",
     "varRefreshCmd": "cat(var_dic_list()) "
    }
   },
   "types_to_exclude": [
    "module",
    "function",
    "builtin_function_or_method",
    "instance",
    "_Feature"
   ],
   "window_display": false
  }
 },
 "nbformat": 4,
 "nbformat_minor": 5
}
