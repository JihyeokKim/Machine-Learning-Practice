{
 "cells": [
  {
   "cell_type": "markdown",
   "id": "3631eb4f",
   "metadata": {},
   "source": [
    "# 합성곱 신경망 실습"
   ]
  },
  {
   "cell_type": "markdown",
   "id": "d8fc5889",
   "metadata": {},
   "source": [
    "### 랜덤 시드 설정"
   ]
  },
  {
   "cell_type": "code",
   "execution_count": 3,
   "id": "29037668",
   "metadata": {},
   "outputs": [],
   "source": [
    "import numpy as np\n",
    "import tensorflow as tf\n",
    "np.random.seed(0)\n",
    "tf.random.set_seed(0)"
   ]
  },
  {
   "cell_type": "markdown",
   "id": "7083f8c8",
   "metadata": {},
   "source": [
    "### 데이터 불러오기"
   ]
  },
  {
   "cell_type": "code",
   "execution_count": 4,
   "id": "13ac9d29",
   "metadata": {},
   "outputs": [
    {
     "name": "stdout",
     "output_type": "stream",
     "text": [
      "Downloading data from https://storage.googleapis.com/tensorflow/tf-keras-datasets/mnist.npz\n",
      "11493376/11490434 [==============================] - 1s 0us/step\n",
      "11501568/11490434 [==============================] - 1s 0us/step\n"
     ]
    }
   ],
   "source": [
    "from tensorflow.keras import datasets\n",
    "(X_tn0, y_tn0), (X_te0, y_te0) = datasets.mnist.load_data()     # 트레이닝, 테스트 데이터 나눠서 불러오기"
   ]
  },
  {
   "cell_type": "markdown",
   "id": "219fbd26",
   "metadata": {},
   "source": [
    "### 오리지널 데이터 차원 확인"
   ]
  },
  {
   "cell_type": "code",
   "execution_count": 5,
   "id": "7ceb2d91",
   "metadata": {},
   "outputs": [
    {
     "name": "stdout",
     "output_type": "stream",
     "text": [
      "(60000, 28, 28)\n"
     ]
    }
   ],
   "source": [
    "print(X_tn0.shape)"
   ]
  },
  {
   "cell_type": "code",
   "execution_count": 6,
   "id": "7f69f728",
   "metadata": {},
   "outputs": [
    {
     "name": "stdout",
     "output_type": "stream",
     "text": [
      "(60000,)\n"
     ]
    }
   ],
   "source": [
    "print(y_tn0.shape)"
   ]
  },
  {
   "cell_type": "code",
   "execution_count": 7,
   "id": "b72189ce",
   "metadata": {},
   "outputs": [
    {
     "name": "stdout",
     "output_type": "stream",
     "text": [
      "(10000, 28, 28)\n"
     ]
    }
   ],
   "source": [
    "print(X_te0.shape)"
   ]
  },
  {
   "cell_type": "code",
   "execution_count": 8,
   "id": "99ce4aad",
   "metadata": {},
   "outputs": [
    {
     "name": "stdout",
     "output_type": "stream",
     "text": [
      "(10000,)\n"
     ]
    }
   ],
   "source": [
    "print(y_te0.shape)"
   ]
  },
  {
   "cell_type": "markdown",
   "id": "e32a9a97",
   "metadata": {},
   "source": [
    "### 오리지널 데이터 시각화"
   ]
  },
  {
   "cell_type": "code",
   "execution_count": 34,
   "id": "ca54c338",
   "metadata": {},
   "outputs": [
    {
     "data": {
      "image/png": "[encoded data removed]",
      "text/plain": [
       "<Figure size 720x360 with 10 Axes>"
      ]
     },
     "metadata": {
      "needs_background": "light"
     },
     "output_type": "display_data"
    }
   ],
   "source": [
    "import matplotlib.pyplot as plt\n",
    "plt.figure(figsize=(10, 5))\n",
    "for i in range(2*5):\n",
    "    plt.subplot(2, 5, i + 1)\n",
    "    plt.imshow(X_tn0[i].reshape((28, 28)),\n",
    "              cmap = 'Greys')      # i 번째 데이터 시각화"
   ]
  },
  {
   "cell_type": "markdown",
   "id": "e518cdc6",
   "metadata": {},
   "source": [
    "### 타깃 클래스 확인"
   ]
  },
  {
   "cell_type": "code",
   "execution_count": 11,
   "id": "77cb2fc3",
   "metadata": {},
   "outputs": [
    {
     "data": {
      "text/plain": [
       "{0, 1, 2, 3, 4, 5, 6, 7, 8, 9}"
      ]
     },
     "execution_count": 11,
     "metadata": {},
     "output_type": "execute_result"
    }
   ],
   "source": [
    "set(y_tn0)"
   ]
  },
  {
   "cell_type": "markdown",
   "id": "3039f0dc",
   "metadata": {},
   "source": [
    "### 피처 데이터 스케일 조정"
   ]
  },
  {
   "cell_type": "code",
   "execution_count": 12,
   "id": "bf1b6336",
   "metadata": {},
   "outputs": [
    {
     "name": "stdout",
     "output_type": "stream",
     "text": [
      "(60000, 28, 28, 1)\n"
     ]
    }
   ],
   "source": [
    "X_tn_re = X_tn0.reshape(60000, 28, 28, 1)       # CNN 인풋 데이터 조정 (데이터 수, 행, 열, 채널 수)\n",
    "X_tn = X_tn_re/255                              # 최대값 1이 되도록 조정\n",
    "print(X_tn.shape)"
   ]
  },
  {
   "cell_type": "code",
   "execution_count": 13,
   "id": "69c2f357",
   "metadata": {},
   "outputs": [
    {
     "name": "stdout",
     "output_type": "stream",
     "text": [
      "(10000, 28, 28, 1)\n"
     ]
    }
   ],
   "source": [
    "X_te_re = X_te0.reshape(10000, 28, 28, 1)\n",
    "X_te = X_te_re/255\n",
    "print(X_te.shape)"
   ]
  },
  {
   "cell_type": "markdown",
   "id": "63daff4b",
   "metadata": {},
   "source": [
    "### 타깃 데이터 원-핫 인코딩"
   ]
  },
  {
   "cell_type": "code",
   "execution_count": 14,
   "id": "060fb603",
   "metadata": {},
   "outputs": [],
   "source": [
    "from tensorflow.keras.utils import to_categorical\n",
    "y_tn = to_categorical(y_tn0)\n",
    "y_te = to_categorical(y_te0)"
   ]
  },
  {
   "cell_type": "markdown",
   "id": "ffc4c196",
   "metadata": {},
   "source": [
    "### 합성곱 신경망 생성"
   ]
  },
  {
   "cell_type": "code",
   "execution_count": 16,
   "id": "346a90e8",
   "metadata": {},
   "outputs": [
    {
     "name": "stdout",
     "output_type": "stream",
     "text": [
      "Model: \"sequential_1\"\n",
      "_________________________________________________________________\n",
      " Layer (type)                Output Shape              Param #   \n",
      "=================================================================\n",
      " conv2d_2 (Conv2D)           (None, 24, 24, 32)        832       \n",
      "                                                                 \n",
      " max_pooling2d_2 (MaxPooling  (None, 12, 12, 32)       0         \n",
      " 2D)                                                             \n",
      "                                                                 \n",
      " dropout_1 (Dropout)         (None, 12, 12, 32)        0         \n",
      "                                                                 \n",
      " conv2d_3 (Conv2D)           (None, 10, 10, 32)        9248      \n",
      "                                                                 \n",
      " max_pooling2d_3 (MaxPooling  (None, 5, 5, 32)         0         \n",
      " 2D)                                                             \n",
      "                                                                 \n",
      " dropout_2 (Dropout)         (None, 5, 5, 32)          0         \n",
      "                                                                 \n",
      " flatten (Flatten)           (None, 800)               0         \n",
      "                                                                 \n",
      " dense (Dense)               (None, 1024)              820224    \n",
      "                                                                 \n",
      " dropout_3 (Dropout)         (None, 1024)              0         \n",
      "                                                                 \n",
      " dense_1 (Dense)             (None, 10)                10250     \n",
      "                                                                 \n",
      "=================================================================\n",
      "Total params: 840,554\n",
      "Trainable params: 840,554\n",
      "Non-trainable params: 0\n",
      "_________________________________________________________________\n"
     ]
    }
   ],
   "source": [
    "from tensorflow.keras.models import Sequential\n",
    "from tensorflow.keras.layers import Dense, Conv2D\n",
    "from tensorflow.keras.layers import MaxPool2D, Flatten\n",
    "from tensorflow.keras.layers import Dropout\n",
    "\n",
    "n_class = len(set(y_tn0))\n",
    "\n",
    "model = Sequential()\n",
    "model.add(Conv2D(32, kernel_size = (5, 5),        # 32: 아웃풋 데이터 차원\n",
    "                input_shape = (28, 28, 1),\n",
    "                padding = 'valid',               # 패딩 안함, ex) 'same'은 패딩을 통해 아웃풋 사이즈 인풋과 동일하게 유지\n",
    "                activation = 'relu'))\n",
    "model.add(MaxPool2D(pool_size = (2, 2)))\n",
    "model.add(Dropout(0.25))\n",
    "model.add(Conv2D(32, kernel_size = (3, 3),\n",
    "         padding = 'valid',\n",
    "         activation = 'relu'))\n",
    "model.add(MaxPool2D(pool_size = (2, 2)))\n",
    "model.add(Dropout(0.25))\n",
    "model.add(Flatten())\n",
    "model.add(Dense(1024, activation = 'relu'))\n",
    "model.add(Dropout(0.5))\n",
    "model.add(Dense(n_class, activation = 'softmax'))\n",
    "model.summary()"
   ]
  },
  {
   "cell_type": "markdown",
   "id": "a236f8cf",
   "metadata": {},
   "source": [
    "### 모형 컴파일"
   ]
  },
  {
   "cell_type": "code",
   "execution_count": 18,
   "id": "3e56b2aa",
   "metadata": {},
   "outputs": [],
   "source": [
    "model.compile(loss = 'categorical_crossentropy',\n",
    "             optimizer = 'adam',\n",
    "             metrics = ['accuracy'])"
   ]
  },
  {
   "cell_type": "markdown",
   "id": "4ead29c4",
   "metadata": {},
   "source": [
    "### 학습"
   ]
  },
  {
   "cell_type": "code",
   "execution_count": 19,
   "id": "aecf81ed",
   "metadata": {},
   "outputs": [
    {
     "name": "stdout",
     "output_type": "stream",
     "text": [
      "Epoch 1/3\n",
      "WARNING:tensorflow:AutoGraph could not transform <function Model.make_train_function.<locals>.train_function at 0x000001EB3CA61558> and will run it as-is.\n",
      "Please report this to the TensorFlow team. When filing the bug, set the verbosity to 10 (on Linux, `export AUTOGRAPH_VERBOSITY=10`) and attach the full output.\n",
      "Cause: 'arguments' object has no attribute 'posonlyargs'\n",
      "To silence this warning, decorate the function with @tf.autograph.experimental.do_not_convert\n",
      "WARNING: AutoGraph could not transform <function Model.make_train_function.<locals>.train_function at 0x000001EB3CA61558> and will run it as-is.\n",
      "Please report this to the TensorFlow team. When filing the bug, set the verbosity to 10 (on Linux, `export AUTOGRAPH_VERBOSITY=10`) and attach the full output.\n",
      "Cause: 'arguments' object has no attribute 'posonlyargs'\n",
      "To silence this warning, decorate the function with @tf.autograph.experimental.do_not_convert\n",
      "600/600 [==============================] - 19s 30ms/step - loss: 0.2262 - accuracy: 0.9290\n",
      "Epoch 2/3\n",
      "600/600 [==============================] - 18s 30ms/step - loss: 0.0734 - accuracy: 0.9771\n",
      "Epoch 3/3\n",
      "600/600 [==============================] - 18s 30ms/step - loss: 0.0552 - accuracy: 0.9823\n"
     ]
    }
   ],
   "source": [
    "hist = model.fit(X_tn, y_tn, epochs = 3, batch_size = 100)"
   ]
  },
  {
   "cell_type": "markdown",
   "id": "335f9cf7",
   "metadata": {},
   "source": [
    "### 모형 평가"
   ]
  },
  {
   "cell_type": "code",
   "execution_count": 20,
   "id": "a6836ac2",
   "metadata": {},
   "outputs": [
    {
     "name": "stdout",
     "output_type": "stream",
     "text": [
      "WARNING:tensorflow:AutoGraph could not transform <function Model.make_test_function.<locals>.test_function at 0x000001EB430A7AF8> and will run it as-is.\n",
      "Please report this to the TensorFlow team. When filing the bug, set the verbosity to 10 (on Linux, `export AUTOGRAPH_VERBOSITY=10`) and attach the full output.\n",
      "Cause: 'arguments' object has no attribute 'posonlyargs'\n",
      "To silence this warning, decorate the function with @tf.autograph.experimental.do_not_convert\n",
      "WARNING: AutoGraph could not transform <function Model.make_test_function.<locals>.test_function at 0x000001EB430A7AF8> and will run it as-is.\n",
      "Please report this to the TensorFlow team. When filing the bug, set the verbosity to 10 (on Linux, `export AUTOGRAPH_VERBOSITY=10`) and attach the full output.\n",
      "Cause: 'arguments' object has no attribute 'posonlyargs'\n",
      "To silence this warning, decorate the function with @tf.autograph.experimental.do_not_convert\n",
      "1875/1875 [==============================] - 7s 4ms/step - loss: 0.0242 - accuracy: 0.9930\n",
      "0.9930499792098999\n",
      "313/313 [==============================] - 1s 4ms/step - loss: 0.0264 - accuracy: 0.9916\n",
      "0.991599977016449\n"
     ]
    }
   ],
   "source": [
    "print(model.evaluate(X_tn, y_tn)[1])\n",
    "print(model.evaluate(X_te, y_te)[1])"
   ]
  },
  {
   "cell_type": "markdown",
   "id": "778120b8",
   "metadata": {},
   "source": [
    "### 오답 데이터 확인"
   ]
  },
  {
   "cell_type": "code",
   "execution_count": 21,
   "id": "4f83b721",
   "metadata": {},
   "outputs": [
    {
     "name": "stdout",
     "output_type": "stream",
     "text": [
      "WARNING:tensorflow:AutoGraph could not transform <function Model.make_predict_function.<locals>.predict_function at 0x000001EB431B28B8> and will run it as-is.\n",
      "Please report this to the TensorFlow team. When filing the bug, set the verbosity to 10 (on Linux, `export AUTOGRAPH_VERBOSITY=10`) and attach the full output.\n",
      "Cause: 'arguments' object has no attribute 'posonlyargs'\n",
      "To silence this warning, decorate the function with @tf.autograph.experimental.do_not_convert\n",
      "WARNING: AutoGraph could not transform <function Model.make_predict_function.<locals>.predict_function at 0x000001EB431B28B8> and will run it as-is.\n",
      "Please report this to the TensorFlow team. When filing the bug, set the verbosity to 10 (on Linux, `export AUTOGRAPH_VERBOSITY=10`) and attach the full output.\n",
      "Cause: 'arguments' object has no attribute 'posonlyargs'\n",
      "To silence this warning, decorate the function with @tf.autograph.experimental.do_not_convert\n",
      "[6.6058661e-08 5.1221610e-07 8.5989450e-06 3.1563854e-05 1.5012574e-08\n",
      " 6.7577105e-08 1.1028717e-11 9.9994826e-01 3.8140976e-07 1.0438277e-05]\n"
     ]
    }
   ],
   "source": [
    "y_pred_hot = model.predict(X_te)\n",
    "print(y_pred_hot[0])"
   ]
  },
  {
   "cell_type": "code",
   "execution_count": 24,
   "id": "a347a686",
   "metadata": {},
   "outputs": [
    {
     "name": "stdout",
     "output_type": "stream",
     "text": [
      "[7 2 1 ... 4 5 6]\n"
     ]
    }
   ],
   "source": [
    "import numpy as np\n",
    "y_pred = np.argmax(y_pred_hot, axis = 1)         # 원-핫 인코딩을 원래 숫자로\n",
    "print(y_pred)"
   ]
  },
  {
   "cell_type": "code",
   "execution_count": 26,
   "id": "7cc3853c",
   "metadata": {},
   "outputs": [],
   "source": [
    "diff = y_te0 - y_pred\n",
    "diff_idx = []\n",
    "y_len = len(y_te0)\n",
    "for i in range(0, y_len):\n",
    "    if(diff[i] !=  0):\n",
    "        diff_idx.append(i)"
   ]
  },
  {
   "cell_type": "markdown",
   "id": "bd8b4a8e",
   "metadata": {},
   "source": [
    "### 오답 데이터 시각화"
   ]
  },
  {
   "cell_type": "code",
   "execution_count": 33,
   "id": "fc6682d1",
   "metadata": {},
   "outputs": [
    {
     "data": {
      "image/png": "[encoded data removed]",
      "text/plain": [
       "<Figure size 720x360 with 10 Axes>"
      ]
     },
     "metadata": {
      "needs_background": "light"
     },
     "output_type": "display_data"
    }
   ],
   "source": [
    "import matplotlib.pyplot as plt\n",
    "plt.figure(figsize = (10, 5))\n",
    "for i in range(2*5):\n",
    "    plt.subplot(2, 5, i+1)\n",
    "    raw_idx = diff_idx[i]\n",
    "    plt.imshow(X_te0[raw_idx].reshape((28, 28)),\n",
    "              cmap = 'Greys')\n",
    "plt.show()"
   ]
  },
  {
   "cell_type": "code",
   "execution_count": null,
   "id": "1ee56bd8",
   "metadata": {},
   "outputs": [],
   "source": []
  }
 ],
 "metadata": {
  "kernelspec": {
   "display_name": "Python 3 (ipykernel)",
   "language": "python",
   "name": "python3"
  },
  "language_info": {
   "codemirror_mode": {
    "name": "ipython",
    "version": 3
   },
   "file_extension": ".py",
   "mimetype": "text/x-python",
   "name": "python",
   "nbconvert_exporter": "python",
   "pygments_lexer": "ipython3",
   "version": "3.7.6"
  },
  "varInspector": {
   "cols": {
    "lenName": 16,
    "lenType": 16,
    "lenVar": 40
   },
   "kernels_config": {
    "python": {
     "delete_cmd_postfix": "",
     "delete_cmd_prefix": "del ",
     "library": "var_list.py",
     "varRefreshCmd": "print(var_dic_list())"
    },
    "r": {
     "delete_cmd_postfix": ") ",
     "delete_cmd_prefix": "rm(",
     "library": "var_list.r",
     "varRefreshCmd": "cat(var_dic_list()) "
    }
   },
   "types_to_exclude": [
    "module",
    "function",
    "builtin_function_or_method",
    "instance",
    "_Feature"
   ],
   "window_display": false
  }
 },
 "nbformat": 4,
 "nbformat_minor": 5
}
